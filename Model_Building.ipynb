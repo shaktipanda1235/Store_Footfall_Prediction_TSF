{
 "cells": [
  {
   "cell_type": "code",
   "execution_count": 5,
   "metadata": {
    "ExecuteTime": {
     "end_time": "2020-05-29T09:40:59.373715Z",
     "start_time": "2020-05-29T09:40:56.363413Z"
    },
    "colab": {
     "base_uri": "https://localhost:8080/",
     "height": 71
    },
    "colab_type": "code",
    "id": "d8PFoEDn1Jxf",
    "outputId": "bc499fd3-96af-4790-fa03-5c7729c963f1"
   },
   "outputs": [],
   "source": [
    "# loading packages\n",
    "# basic + dates \n",
    "import numpy as np\n",
    "import pandas as pd\n",
    "from pandas import datetime\n",
    "\n",
    "# data visualization\n",
    "import matplotlib.pyplot as plt\n",
    "import seaborn as sns # advanced vizs\n",
    "%matplotlib inline\n",
    "\n",
    "# statistics\n",
    "from statsmodels.distributions.empirical_distribution import ECDF\n",
    "\n",
    "# time series analysis\n",
    "from statsmodels.tsa.seasonal import seasonal_decompose\n",
    "from statsmodels.graphics.tsaplots import plot_acf, plot_pacf\n",
    "\n",
    "import warnings\n",
    "warnings.filterwarnings(\"ignore\")"
   ]
  },
  {
   "cell_type": "markdown",
   "metadata": {
    "colab_type": "text",
    "id": "LSN6gKO31JxX"
   },
   "source": [
    "Store id \n",
    "Day of Week \n",
    "Date\n",
    "Customers: the number of customers on a given day.(Target Variable)\n",
    "Open: an indicator for whether the store was open: 0 = closed, 1 = open.\n",
    "Promo: indicates whether a store is running a promo on that day.\n",
    "StateHoliday: indicates a state holiday. Normally all stores, with few exceptions, are closed on state holidays. This has value as \"0\", \"a\", \"b\", \"c\"\n",
    "SchoolHoliday: indicates if the (Store, Date) was affected by the closure of public schools.\n"
   ]
  },
  {
   "cell_type": "code",
   "execution_count": 6,
   "metadata": {
    "ExecuteTime": {
     "end_time": "2020-05-29T09:41:13.495394Z",
     "start_time": "2020-05-29T09:40:59.377973Z"
    },
    "colab": {},
    "colab_type": "code",
    "id": "bksFCfWS1Jxs"
   },
   "outputs": [],
   "source": [
    "# importing data\n",
    "#import os\n",
    "#os.chdir('D:/Academic Operations/DSBA - Python/Online/Time Series Forecasting/ARIMAX Case Study/Final')\n",
    "\n",
    "Store50 = pd.read_excel(\"Store_50-1.xlsx\", parse_dates = True, index_col = 'Date')"
   ]
  },
  {
   "cell_type": "code",
   "execution_count": 7,
   "metadata": {
    "ExecuteTime": {
     "end_time": "2020-05-29T09:41:13.536975Z",
     "start_time": "2020-05-29T09:41:13.500975Z"
    },
    "colab": {
     "base_uri": "https://localhost:8080/",
     "height": 235
    },
    "colab_type": "code",
    "id": "8kqBDtZQ1Jx6",
    "outputId": "fb3553bc-1fed-4da2-99d5-dff6b75c6111"
   },
   "outputs": [
    {
     "data": {
      "text/html": [
       "<div>\n",
       "<style scoped>\n",
       "    .dataframe tbody tr th:only-of-type {\n",
       "        vertical-align: middle;\n",
       "    }\n",
       "\n",
       "    .dataframe tbody tr th {\n",
       "        vertical-align: top;\n",
       "    }\n",
       "\n",
       "    .dataframe thead th {\n",
       "        text-align: right;\n",
       "    }\n",
       "</style>\n",
       "<table border=\"1\" class=\"dataframe\">\n",
       "  <thead>\n",
       "    <tr style=\"text-align: right;\">\n",
       "      <th></th>\n",
       "      <th>Store</th>\n",
       "      <th>Day Of Week</th>\n",
       "      <th>Customers</th>\n",
       "      <th>Open</th>\n",
       "      <th>Promotion</th>\n",
       "      <th>State Holiday</th>\n",
       "      <th>School Holiday</th>\n",
       "    </tr>\n",
       "    <tr>\n",
       "      <th>Date</th>\n",
       "      <th></th>\n",
       "      <th></th>\n",
       "      <th></th>\n",
       "      <th></th>\n",
       "      <th></th>\n",
       "      <th></th>\n",
       "      <th></th>\n",
       "    </tr>\n",
       "  </thead>\n",
       "  <tbody>\n",
       "    <tr>\n",
       "      <th>2016-05-31</th>\n",
       "      <td>1044</td>\n",
       "      <td>1</td>\n",
       "      <td>884</td>\n",
       "      <td>1</td>\n",
       "      <td>1</td>\n",
       "      <td>0</td>\n",
       "      <td>0</td>\n",
       "    </tr>\n",
       "    <tr>\n",
       "      <th>2016-05-31</th>\n",
       "      <td>1041</td>\n",
       "      <td>1</td>\n",
       "      <td>1032</td>\n",
       "      <td>1</td>\n",
       "      <td>1</td>\n",
       "      <td>0</td>\n",
       "      <td>1</td>\n",
       "    </tr>\n",
       "    <tr>\n",
       "      <th>2016-05-31</th>\n",
       "      <td>1036</td>\n",
       "      <td>1</td>\n",
       "      <td>1070</td>\n",
       "      <td>1</td>\n",
       "      <td>1</td>\n",
       "      <td>0</td>\n",
       "      <td>0</td>\n",
       "    </tr>\n",
       "    <tr>\n",
       "      <th>2016-05-31</th>\n",
       "      <td>1047</td>\n",
       "      <td>1</td>\n",
       "      <td>2043</td>\n",
       "      <td>1</td>\n",
       "      <td>1</td>\n",
       "      <td>0</td>\n",
       "      <td>0</td>\n",
       "    </tr>\n",
       "    <tr>\n",
       "      <th>2016-05-31</th>\n",
       "      <td>1012</td>\n",
       "      <td>1</td>\n",
       "      <td>1239</td>\n",
       "      <td>1</td>\n",
       "      <td>1</td>\n",
       "      <td>0</td>\n",
       "      <td>0</td>\n",
       "    </tr>\n",
       "  </tbody>\n",
       "</table>\n",
       "</div>"
      ],
      "text/plain": [
       "            Store  Day Of Week  Customers  Open  Promotion State Holiday  \\\n",
       "Date                                                                       \n",
       "2016-05-31   1044            1        884     1          1             0   \n",
       "2016-05-31   1041            1       1032     1          1             0   \n",
       "2016-05-31   1036            1       1070     1          1             0   \n",
       "2016-05-31   1047            1       2043     1          1             0   \n",
       "2016-05-31   1012            1       1239     1          1             0   \n",
       "\n",
       "            School Holiday  \n",
       "Date                        \n",
       "2016-05-31               0  \n",
       "2016-05-31               1  \n",
       "2016-05-31               0  \n",
       "2016-05-31               0  \n",
       "2016-05-31               0  "
      ]
     },
     "execution_count": 7,
     "metadata": {},
     "output_type": "execute_result"
    }
   ],
   "source": [
    "Store50.head()"
   ]
  },
  {
   "cell_type": "code",
   "execution_count": 8,
   "metadata": {
    "ExecuteTime": {
     "end_time": "2020-05-29T09:41:13.680476Z",
     "start_time": "2020-05-29T09:41:13.542078Z"
    }
   },
   "outputs": [
    {
     "name": "stdout",
     "output_type": "stream",
     "text": [
      "The number of rows:  43326 \n",
      "The number of columns:  7\n"
     ]
    }
   ],
   "source": [
    "print(\"The number of rows: \",Store50.shape[0], \"\\n\"\"The number of columns: \",Store50.shape[1])"
   ]
  },
  {
   "cell_type": "code",
   "execution_count": 9,
   "metadata": {
    "ExecuteTime": {
     "end_time": "2020-05-29T09:41:13.845220Z",
     "start_time": "2020-05-29T09:41:13.684152Z"
    }
   },
   "outputs": [],
   "source": [
    "Store50_1044 = Store50[Store50.Store == 1044]['Customers']. sort_index(ascending=True)"
   ]
  },
  {
   "cell_type": "code",
   "execution_count": 10,
   "metadata": {
    "ExecuteTime": {
     "end_time": "2020-05-29T09:41:13.990569Z",
     "start_time": "2020-05-29T09:41:13.849258Z"
    }
   },
   "outputs": [
    {
     "data": {
      "text/plain": [
       "Date\n",
       "2014-01-01      0\n",
       "2014-01-02    473\n",
       "2014-01-03    483\n",
       "2014-01-04      0\n",
       "2014-01-05      0\n",
       "Name: Customers, dtype: int64"
      ]
     },
     "execution_count": 10,
     "metadata": {},
     "output_type": "execute_result"
    }
   ],
   "source": [
    "Store50_1044.head()"
   ]
  },
  {
   "cell_type": "code",
   "execution_count": 11,
   "metadata": {
    "ExecuteTime": {
     "end_time": "2020-05-29T09:41:14.594614Z",
     "start_time": "2020-05-29T09:41:13.994974Z"
    },
    "colab": {
     "base_uri": "https://localhost:8080/",
     "height": 501
    },
    "colab_type": "code",
    "id": "KJMZqRrb1J3d",
    "outputId": "d0d6eda3-7e03-496b-d8df-0d5b994715f9"
   },
   "outputs": [
    {
     "data": {
      "image/png": "[encoded data removed]",
      "text/plain": [
       "<Figure size 864x576 with 1 Axes>"
      ]
     },
     "metadata": {
      "needs_background": "light"
     },
     "output_type": "display_data"
    }
   ],
   "source": [
    "plt.figure(figsize=(12,8))\n",
    "plot_acf(Store50_1044,lags=50,  ax=plt.gca())\n",
    "plt.show()"
   ]
  },
  {
   "cell_type": "code",
   "execution_count": 12,
   "metadata": {
    "ExecuteTime": {
     "end_time": "2020-05-29T09:41:15.156209Z",
     "start_time": "2020-05-29T09:41:14.599660Z"
    },
    "colab": {
     "base_uri": "https://localhost:8080/",
     "height": 501
    },
    "colab_type": "code",
    "id": "t5SPt6-g1J3l",
    "outputId": "e3ba8285-fb03-4dd0-b07c-72323f341f67"
   },
   "outputs": [
    {
     "data": {
      "image/png": "[encoded data removed]",
      "text/plain": [
       "<Figure size 864x576 with 1 Axes>"
      ]
     },
     "metadata": {
      "needs_background": "light"
     },
     "output_type": "display_data"
    }
   ],
   "source": [
    "plt.figure(figsize=(12,8))\n",
    "plot_pacf(Store50_1044, lags=50, ax=plt.gca())\n",
    "plt.show()"
   ]
  },
  {
   "cell_type": "code",
   "execution_count": 13,
   "metadata": {
    "ExecuteTime": {
     "end_time": "2020-05-29T09:41:15.172074Z",
     "start_time": "2020-05-29T09:41:15.162604Z"
    },
    "colab": {},
    "colab_type": "code",
    "id": "siN13Nqr1J3w"
   },
   "outputs": [],
   "source": [
    "## Seasonality after certain lags is visible. Every 7th day"
   ]
  },
  {
   "cell_type": "code",
   "execution_count": 14,
   "metadata": {
    "ExecuteTime": {
     "end_time": "2020-05-29T09:41:15.302046Z",
     "start_time": "2020-05-29T09:41:15.176124Z"
    }
   },
   "outputs": [],
   "source": [
    "### Data is being read again for model. This time no index is created while loading the data. First time when the data, index was used\n",
    "## so that specific Explortory Data Analysis can be done."
   ]
  },
  {
   "cell_type": "code",
   "execution_count": 15,
   "metadata": {
    "ExecuteTime": {
     "end_time": "2020-05-29T09:41:29.270582Z",
     "start_time": "2020-05-29T09:41:15.303043Z"
    },
    "colab": {},
    "colab_type": "code",
    "id": "rwyD7-pQ1J3-"
   },
   "outputs": [],
   "source": [
    "Store50 = pd.read_excel(\"Store_50-1.xlsx\",parse_dates=True)\n",
    "# Extract customers only for store 1044 and the model would be built for this customer \n",
    "Store50_1044 = Store50[Store50.Store == 1044]\n",
    "# reverse to the order: from 2013 to 2015\n",
    "Store50_1044 = Store50_1044.sort_index(ascending = False)\n",
    "\n"
   ]
  },
  {
   "cell_type": "code",
   "execution_count": 16,
   "metadata": {
    "ExecuteTime": {
     "end_time": "2020-05-29T09:41:29.310239Z",
     "start_time": "2020-05-29T09:41:29.270582Z"
    },
    "colab": {
     "base_uri": "https://localhost:8080/",
     "height": 204
    },
    "colab_type": "code",
    "id": "zlnlFZ4b1J4O",
    "outputId": "ab90c345-017d-4681-efb1-928e4bf56d1a"
   },
   "outputs": [
    {
     "data": {
      "text/html": [
       "<div>\n",
       "<style scoped>\n",
       "    .dataframe tbody tr th:only-of-type {\n",
       "        vertical-align: middle;\n",
       "    }\n",
       "\n",
       "    .dataframe tbody tr th {\n",
       "        vertical-align: top;\n",
       "    }\n",
       "\n",
       "    .dataframe thead th {\n",
       "        text-align: right;\n",
       "    }\n",
       "</style>\n",
       "<table border=\"1\" class=\"dataframe\">\n",
       "  <thead>\n",
       "    <tr style=\"text-align: right;\">\n",
       "      <th></th>\n",
       "      <th>Store</th>\n",
       "      <th>Day Of Week</th>\n",
       "      <th>Date</th>\n",
       "      <th>Customers</th>\n",
       "      <th>Open</th>\n",
       "      <th>Promotion</th>\n",
       "      <th>State Holiday</th>\n",
       "      <th>School Holiday</th>\n",
       "    </tr>\n",
       "  </thead>\n",
       "  <tbody>\n",
       "    <tr>\n",
       "      <th>43275</th>\n",
       "      <td>1044</td>\n",
       "      <td>2</td>\n",
       "      <td>2014-01-01 00:00:00</td>\n",
       "      <td>0</td>\n",
       "      <td>0</td>\n",
       "      <td>0</td>\n",
       "      <td>a</td>\n",
       "      <td>1</td>\n",
       "    </tr>\n",
       "    <tr>\n",
       "      <th>43224</th>\n",
       "      <td>1044</td>\n",
       "      <td>3</td>\n",
       "      <td>2014-02-01 00:00:00</td>\n",
       "      <td>481</td>\n",
       "      <td>1</td>\n",
       "      <td>0</td>\n",
       "      <td>0</td>\n",
       "      <td>1</td>\n",
       "    </tr>\n",
       "    <tr>\n",
       "      <th>43173</th>\n",
       "      <td>1044</td>\n",
       "      <td>4</td>\n",
       "      <td>2014-03-01 00:00:00</td>\n",
       "      <td>453</td>\n",
       "      <td>1</td>\n",
       "      <td>0</td>\n",
       "      <td>0</td>\n",
       "      <td>1</td>\n",
       "    </tr>\n",
       "    <tr>\n",
       "      <th>43122</th>\n",
       "      <td>1044</td>\n",
       "      <td>5</td>\n",
       "      <td>2014-04-01 00:00:00</td>\n",
       "      <td>497</td>\n",
       "      <td>1</td>\n",
       "      <td>0</td>\n",
       "      <td>0</td>\n",
       "      <td>1</td>\n",
       "    </tr>\n",
       "    <tr>\n",
       "      <th>43071</th>\n",
       "      <td>1044</td>\n",
       "      <td>6</td>\n",
       "      <td>2014-05-01 00:00:00</td>\n",
       "      <td>450</td>\n",
       "      <td>1</td>\n",
       "      <td>0</td>\n",
       "      <td>0</td>\n",
       "      <td>0</td>\n",
       "    </tr>\n",
       "  </tbody>\n",
       "</table>\n",
       "</div>"
      ],
      "text/plain": [
       "       Store  Day Of Week                 Date  Customers  Open  Promotion  \\\n",
       "43275   1044            2  2014-01-01 00:00:00          0     0          0   \n",
       "43224   1044            3  2014-02-01 00:00:00        481     1          0   \n",
       "43173   1044            4  2014-03-01 00:00:00        453     1          0   \n",
       "43122   1044            5  2014-04-01 00:00:00        497     1          0   \n",
       "43071   1044            6  2014-05-01 00:00:00        450     1          0   \n",
       "\n",
       "      State Holiday  School Holiday  \n",
       "43275             a               1  \n",
       "43224             0               1  \n",
       "43173             0               1  \n",
       "43122             0               1  \n",
       "43071             0               0  "
      ]
     },
     "execution_count": 16,
     "metadata": {},
     "output_type": "execute_result"
    }
   ],
   "source": [
    "Store50_1044.head()"
   ]
  },
  {
   "cell_type": "code",
   "execution_count": 17,
   "metadata": {
    "ExecuteTime": {
     "end_time": "2020-05-29T09:41:29.489035Z",
     "start_time": "2020-05-29T09:41:29.313234Z"
    },
    "colab": {},
    "colab_type": "code",
    "id": "qLANKBcX1J4a"
   },
   "outputs": [],
   "source": [
    "#Sanitisation Work\n",
    "Store50_1044.rename(columns = {\"Day Of Week\": \"DayOfWeek\", \"State Holiday\":\"StateHoliday\",\"School Holiday\":\"SchoolHoliday\"}, \n",
    "                      inplace = True) "
   ]
  },
  {
   "cell_type": "code",
   "execution_count": 18,
   "metadata": {
    "ExecuteTime": {
     "end_time": "2020-05-29T09:41:29.776696Z",
     "start_time": "2020-05-29T09:41:29.493375Z"
    },
    "colab": {},
    "colab_type": "code",
    "id": "VKLzzqrG1J4l"
   },
   "outputs": [],
   "source": [
    "Store50_1044['Date'] = pd.to_datetime(Store50_1044['Date'])\n"
   ]
  },
  {
   "cell_type": "code",
   "execution_count": 19,
   "metadata": {
    "ExecuteTime": {
     "end_time": "2020-05-29T09:41:29.810327Z",
     "start_time": "2020-05-29T09:41:29.781877Z"
    },
    "colab": {},
    "colab_type": "code",
    "id": "f3uttVaZ1J4u"
   },
   "outputs": [],
   "source": [
    "Store50_1044['year']= Store50_1044['Date'].dt.year"
   ]
  },
  {
   "cell_type": "code",
   "execution_count": 20,
   "metadata": {
    "ExecuteTime": {
     "end_time": "2020-05-29T09:41:29.942381Z",
     "start_time": "2020-05-29T09:41:29.813358Z"
    },
    "colab": {
     "base_uri": "https://localhost:8080/",
     "height": 204
    },
    "colab_type": "code",
    "id": "i3FkqsoY1J45",
    "outputId": "f5530492-dea3-4aa2-dd7d-1fbe16d8a7ee"
   },
   "outputs": [
    {
     "data": {
      "text/html": [
       "<div>\n",
       "<style scoped>\n",
       "    .dataframe tbody tr th:only-of-type {\n",
       "        vertical-align: middle;\n",
       "    }\n",
       "\n",
       "    .dataframe tbody tr th {\n",
       "        vertical-align: top;\n",
       "    }\n",
       "\n",
       "    .dataframe thead th {\n",
       "        text-align: right;\n",
       "    }\n",
       "</style>\n",
       "<table border=\"1\" class=\"dataframe\">\n",
       "  <thead>\n",
       "    <tr style=\"text-align: right;\">\n",
       "      <th></th>\n",
       "      <th>Store</th>\n",
       "      <th>DayOfWeek</th>\n",
       "      <th>Date</th>\n",
       "      <th>Customers</th>\n",
       "      <th>Open</th>\n",
       "      <th>Promotion</th>\n",
       "      <th>StateHoliday</th>\n",
       "      <th>SchoolHoliday</th>\n",
       "      <th>year</th>\n",
       "    </tr>\n",
       "  </thead>\n",
       "  <tbody>\n",
       "    <tr>\n",
       "      <th>43275</th>\n",
       "      <td>1044</td>\n",
       "      <td>2</td>\n",
       "      <td>2014-01-01</td>\n",
       "      <td>0</td>\n",
       "      <td>0</td>\n",
       "      <td>0</td>\n",
       "      <td>a</td>\n",
       "      <td>1</td>\n",
       "      <td>2014</td>\n",
       "    </tr>\n",
       "    <tr>\n",
       "      <th>43224</th>\n",
       "      <td>1044</td>\n",
       "      <td>3</td>\n",
       "      <td>2014-02-01</td>\n",
       "      <td>481</td>\n",
       "      <td>1</td>\n",
       "      <td>0</td>\n",
       "      <td>0</td>\n",
       "      <td>1</td>\n",
       "      <td>2014</td>\n",
       "    </tr>\n",
       "    <tr>\n",
       "      <th>43173</th>\n",
       "      <td>1044</td>\n",
       "      <td>4</td>\n",
       "      <td>2014-03-01</td>\n",
       "      <td>453</td>\n",
       "      <td>1</td>\n",
       "      <td>0</td>\n",
       "      <td>0</td>\n",
       "      <td>1</td>\n",
       "      <td>2014</td>\n",
       "    </tr>\n",
       "    <tr>\n",
       "      <th>43122</th>\n",
       "      <td>1044</td>\n",
       "      <td>5</td>\n",
       "      <td>2014-04-01</td>\n",
       "      <td>497</td>\n",
       "      <td>1</td>\n",
       "      <td>0</td>\n",
       "      <td>0</td>\n",
       "      <td>1</td>\n",
       "      <td>2014</td>\n",
       "    </tr>\n",
       "    <tr>\n",
       "      <th>43071</th>\n",
       "      <td>1044</td>\n",
       "      <td>6</td>\n",
       "      <td>2014-05-01</td>\n",
       "      <td>450</td>\n",
       "      <td>1</td>\n",
       "      <td>0</td>\n",
       "      <td>0</td>\n",
       "      <td>0</td>\n",
       "      <td>2014</td>\n",
       "    </tr>\n",
       "  </tbody>\n",
       "</table>\n",
       "</div>"
      ],
      "text/plain": [
       "       Store  DayOfWeek       Date  Customers  Open  Promotion StateHoliday  \\\n",
       "43275   1044          2 2014-01-01          0     0          0            a   \n",
       "43224   1044          3 2014-02-01        481     1          0            0   \n",
       "43173   1044          4 2014-03-01        453     1          0            0   \n",
       "43122   1044          5 2014-04-01        497     1          0            0   \n",
       "43071   1044          6 2014-05-01        450     1          0            0   \n",
       "\n",
       "       SchoolHoliday  year  \n",
       "43275              1  2014  \n",
       "43224              1  2014  \n",
       "43173              1  2014  \n",
       "43122              1  2014  \n",
       "43071              0  2014  "
      ]
     },
     "execution_count": 20,
     "metadata": {},
     "output_type": "execute_result"
    }
   ],
   "source": [
    "Store50_1044.head()"
   ]
  },
  {
   "cell_type": "code",
   "execution_count": 21,
   "metadata": {
    "ExecuteTime": {
     "end_time": "2020-05-29T09:41:30.044313Z",
     "start_time": "2020-05-29T09:41:29.946373Z"
    },
    "colab": {},
    "colab_type": "code",
    "id": "kSh1TDQg1J5D"
   },
   "outputs": [],
   "source": [
    "train=Store50_1044[Store50_1044['year'] !=2016]\n",
    "test=Store50_1044[Store50_1044['year'] ==2016]"
   ]
  },
  {
   "cell_type": "code",
   "execution_count": 22,
   "metadata": {
    "ExecuteTime": {
     "end_time": "2020-05-29T09:41:30.143590Z",
     "start_time": "2020-05-29T09:41:30.045310Z"
    },
    "colab": {},
    "colab_type": "code",
    "id": "T27GFRRw1J5N"
   },
   "outputs": [],
   "source": [
    "train_mod=train[['Date','Customers']]\n",
    "test_mod=train[['Date','Customers']]"
   ]
  },
  {
   "cell_type": "code",
   "execution_count": 23,
   "metadata": {
    "ExecuteTime": {
     "end_time": "2020-05-29T09:41:30.295383Z",
     "start_time": "2020-05-29T09:41:30.147627Z"
    },
    "colab": {
     "base_uri": "https://localhost:8080/",
     "height": 51
    },
    "colab_type": "code",
    "id": "So15h7Me1J5c",
    "outputId": "b28f96dd-4f9e-4ead-ebac-69ff898e120b"
   },
   "outputs": [
    {
     "name": "stdout",
     "output_type": "stream",
     "text": [
      "(730, 9)\n",
      "(152, 9)\n"
     ]
    }
   ],
   "source": [
    "print(train.shape)\n",
    "print(test.shape)"
   ]
  },
  {
   "cell_type": "code",
   "execution_count": 24,
   "metadata": {
    "ExecuteTime": {
     "end_time": "2020-05-29T09:41:30.427519Z",
     "start_time": "2020-05-29T09:41:30.295383Z"
    },
    "colab": {},
    "colab_type": "code",
    "id": "RORbasuj1J5k"
   },
   "outputs": [],
   "source": [
    "## Test for stationarity of the series - Dicky Fuller test\n",
    "\n",
    "from statsmodels.tsa.stattools import adfuller\n",
    "def test_stationarity(timeseries):\n",
    "    \n",
    "    #Determing rolling statistics\n",
    "    rolmean = timeseries.rolling(window=7).mean()\n",
    "    rolstd = timeseries.rolling(window=7).std()\n",
    "\n",
    "    #Plot rolling statistics:\n",
    "    orig = plt.plot(timeseries, color='blue',label='Original')\n",
    "    mean = plt.plot(rolmean, color='red', label='Rolling Mean')\n",
    "    std = plt.plot(rolstd, color='black', label = 'Rolling Std')\n",
    "    plt.legend(loc='best')\n",
    "    plt.title('Rolling Mean & Standard Deviation')\n",
    "    plt.show(block=False)\n",
    "    \n",
    "    #Perform Dickey-Fuller test:\n",
    "    print ('Results of Dickey-Fuller Test:')\n",
    "    dftest = adfuller(timeseries, autolag='AIC')\n",
    "    dfoutput = pd.Series(dftest[0:4], index=['Test Statistic','p-value','#Lags Used','Number of Observations Used'])\n",
    "    for key,value in dftest[4].items():\n",
    "        dfoutput['Critical Value (%s)'%key] = value\n",
    "    print (dfoutput,'\\n')"
   ]
  },
  {
   "cell_type": "code",
   "execution_count": 25,
   "metadata": {
    "ExecuteTime": {
     "end_time": "2020-05-29T09:41:31.186925Z",
     "start_time": "2020-05-29T09:41:30.429518Z"
    },
    "colab": {
     "base_uri": "https://localhost:8080/",
     "height": 604
    },
    "colab_type": "code",
    "id": "gs-Lwhns1J5r",
    "outputId": "e5b1c4c8-7b00-438d-9d7d-cdf70c77ed42"
   },
   "outputs": [
    {
     "data": {
      "image/png": "[encoded data removed]",
      "text/plain": [
       "<Figure size 432x288 with 1 Axes>"
      ]
     },
     "metadata": {
      "needs_background": "light"
     },
     "output_type": "display_data"
    },
    {
     "name": "stdout",
     "output_type": "stream",
     "text": [
      "Results of Dickey-Fuller Test:\n",
      "Test Statistic                  -2.872975\n",
      "p-value                          0.048582\n",
      "#Lags Used                      20.000000\n",
      "Number of Observations Used    709.000000\n",
      "Critical Value (1%)             -3.439607\n",
      "Critical Value (5%)             -2.865625\n",
      "Critical Value (10%)            -2.568945\n",
      "dtype: float64 \n",
      "\n"
     ]
    }
   ],
   "source": [
    "test_stationarity(train['Customers'])"
   ]
  },
  {
   "cell_type": "code",
   "execution_count": 26,
   "metadata": {
    "ExecuteTime": {
     "end_time": "2020-05-29T09:41:31.202842Z",
     "start_time": "2020-05-29T09:41:31.188924Z"
    },
    "colab": {},
    "colab_type": "code",
    "id": "1yihHf6O1J5y"
   },
   "outputs": [],
   "source": [
    "## Series is stationary and hence no need for differentiation"
   ]
  },
  {
   "cell_type": "code",
   "execution_count": 27,
   "metadata": {
    "ExecuteTime": {
     "end_time": "2020-05-29T09:41:31.310014Z",
     "start_time": "2020-05-29T09:41:31.213362Z"
    },
    "colab": {
     "base_uri": "https://localhost:8080/",
     "height": 102
    },
    "colab_type": "code",
    "id": "GIhmfjrT1J54",
    "outputId": "504a2fc5-60ff-4bc0-ede5-fc45ec7fe7b8"
   },
   "outputs": [
    {
     "name": "stdout",
     "output_type": "stream",
     "text": [
      "Model: (0, 0, 1)(0, 0, 1, 7)\n",
      "Model: (0, 0, 1)(0, 0, 2, 7)\n",
      "Model: (0, 0, 2)(1, 0, 0, 7)\n",
      "Model: (0, 0, 2)(1, 0, 1, 7)\n"
     ]
    }
   ],
   "source": [
    "import itertools\n",
    "p = q = range(0, 3)\n",
    "d= range(0,1)\n",
    "pdq = list(itertools.product(p, d, q))\n",
    "model_pdq = [(x[0], x[1], x[2], 7) for x in list(itertools.product(p, d, q))]\n",
    "\n",
    "print('Model: {}{}'.format(pdq[1], model_pdq[1]))\n",
    "print('Model: {}{}'.format(pdq[1], model_pdq[2]))\n",
    "print('Model: {}{}'.format(pdq[2], model_pdq[3]))\n",
    "print('Model: {}{}'.format(pdq[2], model_pdq[4]))"
   ]
  },
  {
   "cell_type": "code",
   "execution_count": 28,
   "metadata": {
    "ExecuteTime": {
     "end_time": "2020-05-29T09:41:31.439876Z",
     "start_time": "2020-05-29T09:41:31.317564Z"
    }
   },
   "outputs": [
    {
     "name": "stdout",
     "output_type": "stream",
     "text": [
      "Empty DataFrame\n",
      "Columns: [param, AIC]\n",
      "Index: []\n"
     ]
    }
   ],
   "source": [
    "# Creating an empty Dataframe with column names only\n",
    "ARIMA_AIC = pd.DataFrame(columns=['param', 'AIC'])\n",
    "print(ARIMA_AIC)\n"
   ]
  },
  {
   "cell_type": "code",
   "execution_count": 29,
   "metadata": {
    "ExecuteTime": {
     "end_time": "2020-05-29T09:41:31.548299Z",
     "start_time": "2020-05-29T09:41:31.444623Z"
    }
   },
   "outputs": [
    {
     "data": {
      "text/plain": [
       "43275      0\n",
       "43224    481\n",
       "43173    453\n",
       "43122    497\n",
       "43071    450\n",
       "        ... \n",
       "7920     537\n",
       "7878       0\n",
       "7836     667\n",
       "7794     668\n",
       "7752     462\n",
       "Name: Customers, Length: 730, dtype: int64"
      ]
     },
     "execution_count": 29,
     "metadata": {},
     "output_type": "execute_result"
    }
   ],
   "source": [
    "train['Customers']"
   ]
  },
  {
   "cell_type": "code",
   "execution_count": 30,
   "metadata": {
    "ExecuteTime": {
     "end_time": "2020-05-29T09:41:36.753045Z",
     "start_time": "2020-05-29T09:41:31.551315Z"
    }
   },
   "outputs": [
    {
     "name": "stdout",
     "output_type": "stream",
     "text": [
      "ARIMA(0, 0, 0) - AIC:10018.497075995292\n",
      "ARIMA(0, 0, 1) - AIC:9999.149162167298\n",
      "ARIMA(0, 0, 2) - AIC:9993.000090076253\n",
      "ARIMA(1, 0, 0) - AIC:10004.023773636363\n",
      "ARIMA(1, 0, 1) - AIC:9994.564290452643\n",
      "ARIMA(1, 0, 2) - AIC:9961.499492601195\n",
      "ARIMA(2, 0, 0) - AIC:9993.938366700702\n",
      "ARIMA(2, 0, 1) - AIC:9995.55787031632\n",
      "ARIMA(2, 0, 2) - AIC:9787.496445477791\n"
     ]
    }
   ],
   "source": [
    "from statsmodels.tsa.arima_model import ARIMA\n",
    "\n",
    "for param in pdq:\n",
    "    ARIMA_model = ARIMA(train['Customers'],order=param).fit()\n",
    "    print('ARIMA{} - AIC:{}'.format(param,ARIMA_model.aic))\n",
    "    ARIMA_AIC = ARIMA_AIC.append({'param':param, 'AIC': ARIMA_model.aic}, ignore_index=True)"
   ]
  },
  {
   "cell_type": "code",
   "execution_count": 31,
   "metadata": {
    "ExecuteTime": {
     "end_time": "2020-05-29T09:41:36.778147Z",
     "start_time": "2020-05-29T09:41:36.754043Z"
    }
   },
   "outputs": [
    {
     "data": {
      "text/html": [
       "<div>\n",
       "<style scoped>\n",
       "    .dataframe tbody tr th:only-of-type {\n",
       "        vertical-align: middle;\n",
       "    }\n",
       "\n",
       "    .dataframe tbody tr th {\n",
       "        vertical-align: top;\n",
       "    }\n",
       "\n",
       "    .dataframe thead th {\n",
       "        text-align: right;\n",
       "    }\n",
       "</style>\n",
       "<table border=\"1\" class=\"dataframe\">\n",
       "  <thead>\n",
       "    <tr style=\"text-align: right;\">\n",
       "      <th></th>\n",
       "      <th>param</th>\n",
       "      <th>AIC</th>\n",
       "    </tr>\n",
       "  </thead>\n",
       "  <tbody>\n",
       "    <tr>\n",
       "      <th>8</th>\n",
       "      <td>(2, 0, 2)</td>\n",
       "      <td>9787.496445</td>\n",
       "    </tr>\n",
       "    <tr>\n",
       "      <th>5</th>\n",
       "      <td>(1, 0, 2)</td>\n",
       "      <td>9961.499493</td>\n",
       "    </tr>\n",
       "    <tr>\n",
       "      <th>2</th>\n",
       "      <td>(0, 0, 2)</td>\n",
       "      <td>9993.000090</td>\n",
       "    </tr>\n",
       "    <tr>\n",
       "      <th>6</th>\n",
       "      <td>(2, 0, 0)</td>\n",
       "      <td>9993.938367</td>\n",
       "    </tr>\n",
       "    <tr>\n",
       "      <th>4</th>\n",
       "      <td>(1, 0, 1)</td>\n",
       "      <td>9994.564290</td>\n",
       "    </tr>\n",
       "    <tr>\n",
       "      <th>7</th>\n",
       "      <td>(2, 0, 1)</td>\n",
       "      <td>9995.557870</td>\n",
       "    </tr>\n",
       "    <tr>\n",
       "      <th>1</th>\n",
       "      <td>(0, 0, 1)</td>\n",
       "      <td>9999.149162</td>\n",
       "    </tr>\n",
       "    <tr>\n",
       "      <th>3</th>\n",
       "      <td>(1, 0, 0)</td>\n",
       "      <td>10004.023774</td>\n",
       "    </tr>\n",
       "    <tr>\n",
       "      <th>0</th>\n",
       "      <td>(0, 0, 0)</td>\n",
       "      <td>10018.497076</td>\n",
       "    </tr>\n",
       "  </tbody>\n",
       "</table>\n",
       "</div>"
      ],
      "text/plain": [
       "       param           AIC\n",
       "8  (2, 0, 2)   9787.496445\n",
       "5  (1, 0, 2)   9961.499493\n",
       "2  (0, 0, 2)   9993.000090\n",
       "6  (2, 0, 0)   9993.938367\n",
       "4  (1, 0, 1)   9994.564290\n",
       "7  (2, 0, 1)   9995.557870\n",
       "1  (0, 0, 1)   9999.149162\n",
       "3  (1, 0, 0)  10004.023774\n",
       "0  (0, 0, 0)  10018.497076"
      ]
     },
     "execution_count": 31,
     "metadata": {},
     "output_type": "execute_result"
    }
   ],
   "source": [
    "ARIMA_AIC.sort_values(by='AIC',ascending=True)"
   ]
  },
  {
   "cell_type": "code",
   "execution_count": 32,
   "metadata": {
    "ExecuteTime": {
     "end_time": "2020-05-29T09:41:39.993764Z",
     "start_time": "2020-05-29T09:41:36.780739Z"
    },
    "scrolled": false
   },
   "outputs": [
    {
     "name": "stdout",
     "output_type": "stream",
     "text": [
      "                              ARMA Model Results                              \n",
      "==============================================================================\n",
      "Dep. Variable:              Customers   No. Observations:                  730\n",
      "Model:                     ARMA(2, 2)   Log Likelihood               -4887.748\n",
      "Method:                       css-mle   S.D. of innovations            194.394\n",
      "Date:                Sat, 02 Apr 2022   AIC                           9787.496\n",
      "Time:                        22:16:40   BIC                           9815.055\n",
      "Sample:                             0   HQIC                          9798.129\n",
      "                                                                              \n",
      "===================================================================================\n",
      "                      coef    std err          z      P>|z|      [0.025      0.975]\n",
      "-----------------------------------------------------------------------------------\n",
      "const             463.9097      7.167     64.731      0.000     449.863     477.956\n",
      "ar.L1.Customers    -0.4445      0.001   -605.558      0.000      -0.446      -0.443\n",
      "ar.L2.Customers    -0.9999      0.000  -4965.530      0.000      -1.000      -0.999\n",
      "ma.L1.Customers     0.4348      0.005     80.873      0.000       0.424       0.445\n",
      "ma.L2.Customers     1.0000      0.008    132.148      0.000       0.985       1.015\n",
      "                                    Roots                                    \n",
      "=============================================================================\n",
      "                  Real          Imaginary           Modulus         Frequency\n",
      "-----------------------------------------------------------------------------\n",
      "AR.1           -0.2223           -0.9750j            1.0001           -0.2857\n",
      "AR.2           -0.2223           +0.9750j            1.0001            0.2857\n",
      "MA.1           -0.2174           -0.9761j            1.0000           -0.2849\n",
      "MA.2           -0.2174           +0.9761j            1.0000            0.2849\n",
      "-----------------------------------------------------------------------------\n"
     ]
    }
   ],
   "source": [
    "## ARIMA(2,0,2) has the lowest AIC\n",
    "mod = ARIMA(train['Customers'], order=(2,0,2))\n",
    "\n",
    "results_Arima = mod.fit()\n",
    "\n",
    "print(results_Arima.summary())"
   ]
  },
  {
   "cell_type": "code",
   "execution_count": 33,
   "metadata": {
    "ExecuteTime": {
     "end_time": "2020-05-29T09:41:40.025550Z",
     "start_time": "2020-05-29T09:41:39.995758Z"
    }
   },
   "outputs": [],
   "source": [
    "test.Customers= test.Customers.astype(float)\n",
    "final_hat_avg =test.copy()\n",
    "pred = results_Arima.forecast(steps=152)"
   ]
  },
  {
   "cell_type": "code",
   "execution_count": 34,
   "metadata": {
    "ExecuteTime": {
     "end_time": "2020-05-29T09:41:40.209849Z",
     "start_time": "2020-05-29T09:41:40.028585Z"
    }
   },
   "outputs": [
    {
     "name": "stdout",
     "output_type": "stream",
     "text": [
      "236.99238409161575\n"
     ]
    }
   ],
   "source": [
    "from sklearn.metrics import  mean_squared_error\n",
    "rmse = mean_squared_error(test.Customers,pred[0],squared=False)\n",
    "print(rmse)"
   ]
  },
  {
   "cell_type": "code",
   "execution_count": 35,
   "metadata": {
    "ExecuteTime": {
     "end_time": "2020-05-29T09:41:40.278212Z",
     "start_time": "2020-05-29T09:41:40.213406Z"
    }
   },
   "outputs": [
    {
     "data": {
      "text/html": [
       "<div>\n",
       "<style scoped>\n",
       "    .dataframe tbody tr th:only-of-type {\n",
       "        vertical-align: middle;\n",
       "    }\n",
       "\n",
       "    .dataframe tbody tr th {\n",
       "        vertical-align: top;\n",
       "    }\n",
       "\n",
       "    .dataframe thead th {\n",
       "        text-align: right;\n",
       "    }\n",
       "</style>\n",
       "<table border=\"1\" class=\"dataframe\">\n",
       "  <thead>\n",
       "    <tr style=\"text-align: right;\">\n",
       "      <th></th>\n",
       "      <th>RMSE</th>\n",
       "    </tr>\n",
       "  </thead>\n",
       "  <tbody>\n",
       "    <tr>\n",
       "      <th>ARIMA(2,0,2)</th>\n",
       "      <td>236.992384</td>\n",
       "    </tr>\n",
       "  </tbody>\n",
       "</table>\n",
       "</div>"
      ],
      "text/plain": [
       "                    RMSE\n",
       "ARIMA(2,0,2)  236.992384"
      ]
     },
     "execution_count": 35,
     "metadata": {},
     "output_type": "execute_result"
    }
   ],
   "source": [
    "resultsDf = pd.DataFrame({'RMSE': [rmse]}\n",
    "                           ,index=['ARIMA(2,0,2)'])\n",
    "\n",
    "resultsDf"
   ]
  },
  {
   "cell_type": "code",
   "execution_count": 36,
   "metadata": {
    "ExecuteTime": {
     "end_time": "2020-05-29T09:41:40.477115Z",
     "start_time": "2020-05-29T09:41:40.280948Z"
    }
   },
   "outputs": [],
   "source": [
    "### As the dataset has seasonality.. Let's build the model with SARIMA"
   ]
  },
  {
   "cell_type": "code",
   "execution_count": 37,
   "metadata": {
    "ExecuteTime": {
     "end_time": "2020-05-29T09:41:40.585378Z",
     "start_time": "2020-05-29T09:41:40.479110Z"
    }
   },
   "outputs": [
    {
     "name": "stdout",
     "output_type": "stream",
     "text": [
      "Empty DataFrame\n",
      "Columns: [param, seasonal, AIC]\n",
      "Index: []\n"
     ]
    }
   ],
   "source": [
    "SARIMA_AIC = pd.DataFrame(columns=['param','seasonal', 'AIC'])\n",
    "print(SARIMA_AIC)"
   ]
  },
  {
   "cell_type": "code",
   "execution_count": 38,
   "metadata": {
    "ExecuteTime": {
     "end_time": "2020-05-29T09:41:40.710240Z",
     "start_time": "2020-05-29T09:41:40.585378Z"
    }
   },
   "outputs": [
    {
     "data": {
      "text/html": [
       "<div>\n",
       "<style scoped>\n",
       "    .dataframe tbody tr th:only-of-type {\n",
       "        vertical-align: middle;\n",
       "    }\n",
       "\n",
       "    .dataframe tbody tr th {\n",
       "        vertical-align: top;\n",
       "    }\n",
       "\n",
       "    .dataframe thead th {\n",
       "        text-align: right;\n",
       "    }\n",
       "</style>\n",
       "<table border=\"1\" class=\"dataframe\">\n",
       "  <thead>\n",
       "    <tr style=\"text-align: right;\">\n",
       "      <th></th>\n",
       "      <th>param</th>\n",
       "      <th>seasonal</th>\n",
       "      <th>AIC</th>\n",
       "    </tr>\n",
       "  </thead>\n",
       "  <tbody>\n",
       "  </tbody>\n",
       "</table>\n",
       "</div>"
      ],
      "text/plain": [
       "Empty DataFrame\n",
       "Columns: [param, seasonal, AIC]\n",
       "Index: []"
      ]
     },
     "execution_count": 38,
     "metadata": {},
     "output_type": "execute_result"
    }
   ],
   "source": [
    "SARIMA_AIC"
   ]
  },
  {
   "cell_type": "code",
   "execution_count": 39,
   "metadata": {
    "ExecuteTime": {
     "end_time": "2020-05-29T09:47:42.551905Z",
     "start_time": "2020-05-29T09:41:40.712238Z"
    },
    "colab": {
     "base_uri": "https://localhost:8080/",
     "height": 1000
    },
    "colab_type": "code",
    "id": "2hZXzyzu1J5-",
    "outputId": "7a1fd77c-45cb-4180-81fb-c5f0654dbe6f",
    "scrolled": true
   },
   "outputs": [
    {
     "name": "stdout",
     "output_type": "stream",
     "text": [
      "SARIMA(0, 0, 0)x(0, 0, 0, 7)7 - AIC:11185.950413292372\n",
      "SARIMA(0, 0, 0)x(0, 0, 1, 7)7 - AIC:10518.569230074745\n",
      "SARIMA(0, 0, 0)x(0, 0, 2, 7)7 - AIC:10040.609277392941\n",
      "SARIMA(0, 0, 0)x(1, 0, 0, 7)7 - AIC:9521.374457632435\n",
      "SARIMA(0, 0, 0)x(1, 0, 1, 7)7 - AIC:9016.226831861999\n",
      "SARIMA(0, 0, 0)x(1, 0, 2, 7)7 - AIC:8914.949176594964\n",
      "SARIMA(0, 0, 0)x(2, 0, 0, 7)7 - AIC:9122.879538850024\n",
      "SARIMA(0, 0, 0)x(2, 0, 1, 7)7 - AIC:8919.558922744724\n",
      "SARIMA(0, 0, 0)x(2, 0, 2, 7)7 - AIC:8885.374422412315\n",
      "SARIMA(0, 0, 1)x(0, 0, 0, 7)7 - AIC:10844.339587952063\n",
      "SARIMA(0, 0, 1)x(0, 0, 1, 7)7 - AIC:10277.416370385214\n",
      "SARIMA(0, 0, 1)x(0, 0, 2, 7)7 - AIC:9913.184015362163\n",
      "SARIMA(0, 0, 1)x(1, 0, 0, 7)7 - AIC:9508.331991534702\n",
      "SARIMA(0, 0, 1)x(1, 0, 1, 7)7 - AIC:8963.908102306596\n",
      "SARIMA(0, 0, 1)x(1, 0, 2, 7)7 - AIC:8875.090651110668\n",
      "SARIMA(0, 0, 1)x(2, 0, 0, 7)7 - AIC:9124.566045236747\n",
      "SARIMA(0, 0, 1)x(2, 0, 1, 7)7 - AIC:8892.983128777423\n",
      "SARIMA(0, 0, 1)x(2, 0, 2, 7)7 - AIC:8867.092277886353\n",
      "SARIMA(0, 0, 2)x(0, 0, 0, 7)7 - AIC:10687.562456381558\n",
      "SARIMA(0, 0, 2)x(0, 0, 1, 7)7 - AIC:10159.160348647305\n",
      "SARIMA(0, 0, 2)x(0, 0, 2, 7)7 - AIC:9816.828928818322\n",
      "SARIMA(0, 0, 2)x(1, 0, 0, 7)7 - AIC:9486.624227238415\n",
      "SARIMA(0, 0, 2)x(1, 0, 1, 7)7 - AIC:8952.954467002568\n",
      "SARIMA(0, 0, 2)x(1, 0, 2, 7)7 - AIC:8914.732137866626\n",
      "SARIMA(0, 0, 2)x(2, 0, 0, 7)7 - AIC:9122.081657624612\n",
      "SARIMA(0, 0, 2)x(2, 0, 1, 7)7 - AIC:8894.885414656754\n",
      "SARIMA(0, 0, 2)x(2, 0, 2, 7)7 - AIC:8937.36791068925\n",
      "SARIMA(1, 0, 0)x(0, 0, 0, 7)7 - AIC:10523.341431346827\n",
      "SARIMA(1, 0, 0)x(0, 0, 1, 7)7 - AIC:10068.947488852371\n",
      "SARIMA(1, 0, 0)x(0, 0, 2, 7)7 - AIC:9797.23807981428\n",
      "SARIMA(1, 0, 0)x(1, 0, 0, 7)7 - AIC:9481.926224340234\n",
      "SARIMA(1, 0, 0)x(1, 0, 1, 7)7 - AIC:8975.188010508891\n",
      "SARIMA(1, 0, 0)x(1, 0, 2, 7)7 - AIC:8885.432382817664\n",
      "SARIMA(1, 0, 0)x(2, 0, 0, 7)7 - AIC:9112.256640044845\n",
      "SARIMA(1, 0, 0)x(2, 0, 1, 7)7 - AIC:9203.475585342589\n",
      "SARIMA(1, 0, 0)x(2, 0, 2, 7)7 - AIC:8958.64046424006\n",
      "SARIMA(1, 0, 1)x(0, 0, 0, 7)7 - AIC:10014.826133120554\n",
      "SARIMA(1, 0, 1)x(0, 0, 1, 7)7 - AIC:9786.62205495842\n",
      "SARIMA(1, 0, 1)x(0, 0, 2, 7)7 - AIC:9615.518786592123\n",
      "SARIMA(1, 0, 1)x(1, 0, 0, 7)7 - AIC:9470.00141575086\n",
      "SARIMA(1, 0, 1)x(1, 0, 1, 7)7 - AIC:9015.560006522965\n",
      "SARIMA(1, 0, 1)x(1, 0, 2, 7)7 - AIC:9103.916091425672\n",
      "SARIMA(1, 0, 1)x(2, 0, 0, 7)7 - AIC:9113.350853218944\n",
      "SARIMA(1, 0, 1)x(2, 0, 1, 7)7 - AIC:9305.880558493964\n",
      "SARIMA(1, 0, 1)x(2, 0, 2, 7)7 - AIC:9459.342800873279\n",
      "SARIMA(1, 0, 2)x(0, 0, 0, 7)7 - AIC:9964.567262454484\n",
      "SARIMA(1, 0, 2)x(0, 0, 1, 7)7 - AIC:9751.96215727043\n",
      "SARIMA(1, 0, 2)x(0, 0, 2, 7)7 - AIC:9575.04357977943\n",
      "SARIMA(1, 0, 2)x(1, 0, 0, 7)7 - AIC:9424.017745089302\n",
      "SARIMA(1, 0, 2)x(1, 0, 1, 7)7 - AIC:9504.012320730712\n",
      "SARIMA(1, 0, 2)x(1, 0, 2, 7)7 - AIC:9402.447942872977\n",
      "SARIMA(1, 0, 2)x(2, 0, 0, 7)7 - AIC:9093.199984419283\n",
      "SARIMA(1, 0, 2)x(2, 0, 1, 7)7 - AIC:9432.867761822086\n",
      "SARIMA(1, 0, 2)x(2, 0, 2, 7)7 - AIC:9407.510322789309\n",
      "SARIMA(2, 0, 0)x(0, 0, 0, 7)7 - AIC:10338.339792999152\n",
      "SARIMA(2, 0, 0)x(0, 0, 1, 7)7 - AIC:9932.89615768143\n",
      "SARIMA(2, 0, 0)x(0, 0, 2, 7)7 - AIC:9659.026836592304\n",
      "SARIMA(2, 0, 0)x(1, 0, 0, 7)7 - AIC:9447.70150682863\n",
      "SARIMA(2, 0, 0)x(1, 0, 1, 7)7 - AIC:8963.726238645588\n",
      "SARIMA(2, 0, 0)x(1, 0, 2, 7)7 - AIC:8900.188942727656\n",
      "SARIMA(2, 0, 0)x(2, 0, 0, 7)7 - AIC:9097.982800844768\n",
      "SARIMA(2, 0, 0)x(2, 0, 1, 7)7 - AIC:8894.927206821623\n",
      "SARIMA(2, 0, 0)x(2, 0, 2, 7)7 - AIC:9061.831864635802\n",
      "SARIMA(2, 0, 1)x(0, 0, 0, 7)7 - AIC:10025.524223863196\n",
      "SARIMA(2, 0, 1)x(0, 0, 1, 7)7 - AIC:9786.735418843566\n",
      "SARIMA(2, 0, 1)x(0, 0, 2, 7)7 - AIC:9615.354759038555\n",
      "SARIMA(2, 0, 1)x(1, 0, 0, 7)7 - AIC:9668.33974031754\n",
      "SARIMA(2, 0, 1)x(1, 0, 1, 7)7 - AIC:9364.503416497404\n",
      "SARIMA(2, 0, 1)x(1, 0, 2, 7)7 - AIC:9445.44848946871\n",
      "SARIMA(2, 0, 1)x(2, 0, 0, 7)7 - AIC:9154.162513188818\n",
      "SARIMA(2, 0, 1)x(2, 0, 1, 7)7 - AIC:9456.012676364258\n",
      "SARIMA(2, 0, 1)x(2, 0, 2, 7)7 - AIC:9459.200761132772\n",
      "SARIMA(2, 0, 2)x(0, 0, 0, 7)7 - AIC:9975.102158691052\n",
      "SARIMA(2, 0, 2)x(0, 0, 1, 7)7 - AIC:9753.688463521177\n",
      "SARIMA(2, 0, 2)x(0, 0, 2, 7)7 - AIC:9576.605856209057\n",
      "SARIMA(2, 0, 2)x(1, 0, 0, 7)7 - AIC:9631.618664143774\n",
      "SARIMA(2, 0, 2)x(1, 0, 1, 7)7 - AIC:9505.488321595183\n",
      "SARIMA(2, 0, 2)x(1, 0, 2, 7)7 - AIC:9412.06283199412\n",
      "SARIMA(2, 0, 2)x(2, 0, 0, 7)7 - AIC:9444.305832325332\n",
      "SARIMA(2, 0, 2)x(2, 0, 1, 7)7 - AIC:9422.554989503415\n",
      "SARIMA(2, 0, 2)x(2, 0, 2, 7)7 - AIC:9408.720223649694\n"
     ]
    }
   ],
   "source": [
    "import statsmodels.api as sm\n",
    "\n",
    "for param in pdq:\n",
    "    for param_seasonal in model_pdq:\n",
    "        SARIMA_model = sm.tsa.statespace.SARIMAX(train['Customers'],\n",
    "                                            order=param,\n",
    "                                            seasonal_order=param_seasonal,\n",
    "                                            enforce_stationarity=False,\n",
    "                                            enforce_invertibility=False)\n",
    "            \n",
    "        results_SARIMA = SARIMA_model.fit()\n",
    "        print('SARIMA{}x{}7 - AIC:{}'.format(param, param_seasonal, results_SARIMA.aic))\n",
    "        SARIMA_AIC = SARIMA_AIC.append({'param':param,'seasonal':param_seasonal ,'AIC': results_SARIMA.aic}, ignore_index=True)\n",
    "        "
   ]
  },
  {
   "cell_type": "code",
   "execution_count": 40,
   "metadata": {
    "ExecuteTime": {
     "end_time": "2020-05-29T09:47:42.602395Z",
     "start_time": "2020-05-29T09:47:42.552900Z"
    }
   },
   "outputs": [
    {
     "data": {
      "text/html": [
       "<div>\n",
       "<style scoped>\n",
       "    .dataframe tbody tr th:only-of-type {\n",
       "        vertical-align: middle;\n",
       "    }\n",
       "\n",
       "    .dataframe tbody tr th {\n",
       "        vertical-align: top;\n",
       "    }\n",
       "\n",
       "    .dataframe thead th {\n",
       "        text-align: right;\n",
       "    }\n",
       "</style>\n",
       "<table border=\"1\" class=\"dataframe\">\n",
       "  <thead>\n",
       "    <tr style=\"text-align: right;\">\n",
       "      <th></th>\n",
       "      <th>param</th>\n",
       "      <th>seasonal</th>\n",
       "      <th>AIC</th>\n",
       "    </tr>\n",
       "  </thead>\n",
       "  <tbody>\n",
       "    <tr>\n",
       "      <th>17</th>\n",
       "      <td>(0, 0, 1)</td>\n",
       "      <td>(2, 0, 2, 7)</td>\n",
       "      <td>8867.092278</td>\n",
       "    </tr>\n",
       "    <tr>\n",
       "      <th>14</th>\n",
       "      <td>(0, 0, 1)</td>\n",
       "      <td>(1, 0, 2, 7)</td>\n",
       "      <td>8875.090651</td>\n",
       "    </tr>\n",
       "    <tr>\n",
       "      <th>8</th>\n",
       "      <td>(0, 0, 0)</td>\n",
       "      <td>(2, 0, 2, 7)</td>\n",
       "      <td>8885.374422</td>\n",
       "    </tr>\n",
       "    <tr>\n",
       "      <th>32</th>\n",
       "      <td>(1, 0, 0)</td>\n",
       "      <td>(1, 0, 2, 7)</td>\n",
       "      <td>8885.432383</td>\n",
       "    </tr>\n",
       "    <tr>\n",
       "      <th>16</th>\n",
       "      <td>(0, 0, 1)</td>\n",
       "      <td>(2, 0, 1, 7)</td>\n",
       "      <td>8892.983129</td>\n",
       "    </tr>\n",
       "  </tbody>\n",
       "</table>\n",
       "</div>"
      ],
      "text/plain": [
       "        param      seasonal          AIC\n",
       "17  (0, 0, 1)  (2, 0, 2, 7)  8867.092278\n",
       "14  (0, 0, 1)  (1, 0, 2, 7)  8875.090651\n",
       "8   (0, 0, 0)  (2, 0, 2, 7)  8885.374422\n",
       "32  (1, 0, 0)  (1, 0, 2, 7)  8885.432383\n",
       "16  (0, 0, 1)  (2, 0, 1, 7)  8892.983129"
      ]
     },
     "execution_count": 40,
     "metadata": {},
     "output_type": "execute_result"
    }
   ],
   "source": [
    "SARIMA_AIC.sort_values(by=['AIC']).head()"
   ]
  },
  {
   "cell_type": "code",
   "execution_count": 41,
   "metadata": {
    "ExecuteTime": {
     "end_time": "2020-05-29T09:47:52.048202Z",
     "start_time": "2020-05-29T09:47:42.606385Z"
    },
    "colab": {
     "base_uri": "https://localhost:8080/",
     "height": 476
    },
    "colab_type": "code",
    "id": "WOR7SZy41J6W",
    "outputId": "554ccb7e-ffde-4876-c7bb-b671e2cb73dd"
   },
   "outputs": [
    {
     "name": "stdout",
     "output_type": "stream",
     "text": [
      "                                       SARIMAX Results                                        \n",
      "==============================================================================================\n",
      "Dep. Variable:                              Customers   No. Observations:                  730\n",
      "Model:             SARIMAX(0, 0, 1)x(2, 0, [1, 2], 7)   Log Likelihood               -4427.546\n",
      "Date:                                Sat, 02 Apr 2022   AIC                           8867.092\n",
      "Time:                                        22:19:37   BIC                           8894.518\n",
      "Sample:                                             0   HQIC                          8877.684\n",
      "                                                - 730                                         \n",
      "Covariance Type:                                  opg                                         \n",
      "==============================================================================\n",
      "                 coef    std err          z      P>|z|      [0.025      0.975]\n",
      "------------------------------------------------------------------------------\n",
      "ma.L1         -0.0032      0.023     -0.138      0.890      -0.048       0.042\n",
      "ar.S.L7        0.3321      0.137      2.424      0.015       0.064       0.601\n",
      "ar.S.L14       0.6724      0.137      4.893      0.000       0.403       0.942\n",
      "ma.S.L7        0.7825      0.529      1.479      0.139      -0.255       1.820\n",
      "ma.S.L14      -1.7798      0.682     -2.610      0.009      -3.116      -0.443\n",
      "sigma2      4240.3533   2598.638      1.632      0.103    -852.883    9333.590\n",
      "===================================================================================\n",
      "Ljung-Box (L1) (Q):                   1.28   Jarque-Bera (JB):              5038.55\n",
      "Prob(Q):                              0.26   Prob(JB):                         0.00\n",
      "Heteroskedasticity (H):               1.65   Skew:                            -2.57\n",
      "Prob(H) (two-sided):                  0.00   Kurtosis:                        14.95\n",
      "===================================================================================\n",
      "\n",
      "Warnings:\n",
      "[1] Covariance matrix calculated using the outer product of gradients (complex-step).\n"
     ]
    }
   ],
   "source": [
    "import statsmodels.api as sm\n",
    "\n",
    "## SARIMA(0, 0, 1)(2, 0, 2, 7)\n",
    "mod = sm.tsa.statespace.SARIMAX(train['Customers'],\n",
    "                                order=(0,0,1),\n",
    "                                seasonal_order=(2, 0, 2, 7),\n",
    "                                enforce_stationarity=False,\n",
    "                                enforce_invertibility=False)\n",
    "results_SARIMA = mod.fit()\n",
    "print(results_SARIMA.summary())"
   ]
  },
  {
   "cell_type": "code",
   "execution_count": 42,
   "metadata": {
    "ExecuteTime": {
     "end_time": "2020-05-29T09:47:53.793138Z",
     "start_time": "2020-05-29T09:47:52.053322Z"
    },
    "colab": {
     "base_uri": "https://localhost:8080/",
     "height": 513
    },
    "colab_type": "code",
    "id": "IZLtRcwv1J6f",
    "outputId": "4117a9e5-1add-4cec-8841-4da79a25e009"
   },
   "outputs": [
    {
     "data": {
      "image/png": "[encoded data removed]",
      "text/plain": [
       "<Figure size 1152x576 with 4 Axes>"
      ]
     },
     "metadata": {
      "needs_background": "light"
     },
     "output_type": "display_data"
    }
   ],
   "source": [
    "results_SARIMA.plot_diagnostics(figsize=(16, 8))\n",
    "plt.show()"
   ]
  },
  {
   "cell_type": "code",
   "execution_count": 43,
   "metadata": {
    "ExecuteTime": {
     "end_time": "2020-05-29T09:47:53.839713Z",
     "start_time": "2020-05-29T09:47:53.794966Z"
    },
    "colab": {
     "base_uri": "https://localhost:8080/",
     "height": 204
    },
    "colab_type": "code",
    "id": "8i8HAivm1J6q",
    "outputId": "f4820826-1979-4e6b-f059-43185c44d5ee"
   },
   "outputs": [
    {
     "data": {
      "text/html": [
       "<div>\n",
       "<style scoped>\n",
       "    .dataframe tbody tr th:only-of-type {\n",
       "        vertical-align: middle;\n",
       "    }\n",
       "\n",
       "    .dataframe tbody tr th {\n",
       "        vertical-align: top;\n",
       "    }\n",
       "\n",
       "    .dataframe thead th {\n",
       "        text-align: right;\n",
       "    }\n",
       "</style>\n",
       "<table border=\"1\" class=\"dataframe\">\n",
       "  <thead>\n",
       "    <tr style=\"text-align: right;\">\n",
       "      <th></th>\n",
       "      <th>Store</th>\n",
       "      <th>DayOfWeek</th>\n",
       "      <th>Date</th>\n",
       "      <th>Customers</th>\n",
       "      <th>Open</th>\n",
       "      <th>Promotion</th>\n",
       "      <th>StateHoliday</th>\n",
       "      <th>SchoolHoliday</th>\n",
       "      <th>year</th>\n",
       "    </tr>\n",
       "  </thead>\n",
       "  <tbody>\n",
       "    <tr>\n",
       "      <th>7701</th>\n",
       "      <td>1044</td>\n",
       "      <td>4</td>\n",
       "      <td>2016-01-01</td>\n",
       "      <td>0.0</td>\n",
       "      <td>0</td>\n",
       "      <td>0</td>\n",
       "      <td>a</td>\n",
       "      <td>1</td>\n",
       "      <td>2016</td>\n",
       "    </tr>\n",
       "    <tr>\n",
       "      <th>7650</th>\n",
       "      <td>1044</td>\n",
       "      <td>5</td>\n",
       "      <td>2016-02-01</td>\n",
       "      <td>633.0</td>\n",
       "      <td>1</td>\n",
       "      <td>0</td>\n",
       "      <td>0</td>\n",
       "      <td>1</td>\n",
       "      <td>2016</td>\n",
       "    </tr>\n",
       "    <tr>\n",
       "      <th>7599</th>\n",
       "      <td>1044</td>\n",
       "      <td>6</td>\n",
       "      <td>2016-03-01</td>\n",
       "      <td>530.0</td>\n",
       "      <td>1</td>\n",
       "      <td>0</td>\n",
       "      <td>0</td>\n",
       "      <td>0</td>\n",
       "      <td>2016</td>\n",
       "    </tr>\n",
       "    <tr>\n",
       "      <th>7548</th>\n",
       "      <td>1044</td>\n",
       "      <td>7</td>\n",
       "      <td>2016-04-01</td>\n",
       "      <td>0.0</td>\n",
       "      <td>0</td>\n",
       "      <td>0</td>\n",
       "      <td>0</td>\n",
       "      <td>0</td>\n",
       "      <td>2016</td>\n",
       "    </tr>\n",
       "    <tr>\n",
       "      <th>7497</th>\n",
       "      <td>1044</td>\n",
       "      <td>1</td>\n",
       "      <td>2016-05-01</td>\n",
       "      <td>845.0</td>\n",
       "      <td>1</td>\n",
       "      <td>1</td>\n",
       "      <td>0</td>\n",
       "      <td>1</td>\n",
       "      <td>2016</td>\n",
       "    </tr>\n",
       "  </tbody>\n",
       "</table>\n",
       "</div>"
      ],
      "text/plain": [
       "      Store  DayOfWeek       Date  Customers  Open  Promotion StateHoliday  \\\n",
       "7701   1044          4 2016-01-01        0.0     0          0            a   \n",
       "7650   1044          5 2016-02-01      633.0     1          0            0   \n",
       "7599   1044          6 2016-03-01      530.0     1          0            0   \n",
       "7548   1044          7 2016-04-01        0.0     0          0            0   \n",
       "7497   1044          1 2016-05-01      845.0     1          1            0   \n",
       "\n",
       "      SchoolHoliday  year  \n",
       "7701              1  2016  \n",
       "7650              1  2016  \n",
       "7599              0  2016  \n",
       "7548              0  2016  \n",
       "7497              1  2016  "
      ]
     },
     "execution_count": 43,
     "metadata": {},
     "output_type": "execute_result"
    }
   ],
   "source": [
    "test.head()"
   ]
  },
  {
   "cell_type": "code",
   "execution_count": 44,
   "metadata": {
    "ExecuteTime": {
     "end_time": "2020-05-29T09:47:54.025100Z",
     "start_time": "2020-05-29T09:47:53.844895Z"
    },
    "colab": {
     "base_uri": "https://localhost:8080/",
     "height": 221
    },
    "colab_type": "code",
    "id": "Kb9l_9QFr0RA",
    "outputId": "0f9960b5-cbcf-42d2-c48a-0a33c1c09afe"
   },
   "outputs": [
    {
     "data": {
      "text/plain": [
       "730    640.513068\n",
       "731    695.409939\n",
       "732    615.839827\n",
       "733      0.000486\n",
       "734    730.593166\n",
       "          ...    \n",
       "877    599.237401\n",
       "878    651.724334\n",
       "879    634.553590\n",
       "880      0.000481\n",
       "881    757.915367\n",
       "Name: predicted_mean, Length: 152, dtype: float64"
      ]
     },
     "execution_count": 44,
     "metadata": {},
     "output_type": "execute_result"
    }
   ],
   "source": [
    "test.Customers= test.Customers.astype(float)\n",
    "final_hat_avg =test.copy()\n",
    "pred = results_SARIMA.get_forecast(steps=152)\n",
    "pred.predicted_mean"
   ]
  },
  {
   "cell_type": "code",
   "execution_count": 45,
   "metadata": {
    "ExecuteTime": {
     "end_time": "2020-05-29T09:47:54.150564Z",
     "start_time": "2020-05-29T09:47:54.028212Z"
    }
   },
   "outputs": [
    {
     "data": {
      "text/html": [
       "<div>\n",
       "<style scoped>\n",
       "    .dataframe tbody tr th:only-of-type {\n",
       "        vertical-align: middle;\n",
       "    }\n",
       "\n",
       "    .dataframe tbody tr th {\n",
       "        vertical-align: top;\n",
       "    }\n",
       "\n",
       "    .dataframe thead th {\n",
       "        text-align: right;\n",
       "    }\n",
       "</style>\n",
       "<table border=\"1\" class=\"dataframe\">\n",
       "  <thead>\n",
       "    <tr style=\"text-align: right;\">\n",
       "      <th>Customers</th>\n",
       "      <th>mean</th>\n",
       "      <th>mean_se</th>\n",
       "      <th>mean_ci_lower</th>\n",
       "      <th>mean_ci_upper</th>\n",
       "    </tr>\n",
       "  </thead>\n",
       "  <tbody>\n",
       "    <tr>\n",
       "      <th>730</th>\n",
       "      <td>640.513068</td>\n",
       "      <td>116.510192</td>\n",
       "      <td>412.157289</td>\n",
       "      <td>868.868847</td>\n",
       "    </tr>\n",
       "    <tr>\n",
       "      <th>731</th>\n",
       "      <td>695.409939</td>\n",
       "      <td>116.510772</td>\n",
       "      <td>467.053023</td>\n",
       "      <td>923.766855</td>\n",
       "    </tr>\n",
       "    <tr>\n",
       "      <th>732</th>\n",
       "      <td>615.839827</td>\n",
       "      <td>116.510772</td>\n",
       "      <td>387.482910</td>\n",
       "      <td>844.196743</td>\n",
       "    </tr>\n",
       "    <tr>\n",
       "      <th>733</th>\n",
       "      <td>0.000486</td>\n",
       "      <td>116.510772</td>\n",
       "      <td>-228.356430</td>\n",
       "      <td>228.357402</td>\n",
       "    </tr>\n",
       "    <tr>\n",
       "      <th>734</th>\n",
       "      <td>730.593166</td>\n",
       "      <td>116.510772</td>\n",
       "      <td>502.236249</td>\n",
       "      <td>958.950082</td>\n",
       "    </tr>\n",
       "    <tr>\n",
       "      <th>...</th>\n",
       "      <td>...</td>\n",
       "      <td>...</td>\n",
       "      <td>...</td>\n",
       "      <td>...</td>\n",
       "    </tr>\n",
       "    <tr>\n",
       "      <th>877</th>\n",
       "      <td>599.237401</td>\n",
       "      <td>117.729751</td>\n",
       "      <td>368.491330</td>\n",
       "      <td>829.983473</td>\n",
       "    </tr>\n",
       "    <tr>\n",
       "      <th>878</th>\n",
       "      <td>651.724334</td>\n",
       "      <td>117.729751</td>\n",
       "      <td>420.978263</td>\n",
       "      <td>882.470406</td>\n",
       "    </tr>\n",
       "    <tr>\n",
       "      <th>879</th>\n",
       "      <td>634.553590</td>\n",
       "      <td>117.729751</td>\n",
       "      <td>403.807518</td>\n",
       "      <td>865.299662</td>\n",
       "    </tr>\n",
       "    <tr>\n",
       "      <th>880</th>\n",
       "      <td>0.000481</td>\n",
       "      <td>117.729751</td>\n",
       "      <td>-230.745591</td>\n",
       "      <td>230.746552</td>\n",
       "    </tr>\n",
       "    <tr>\n",
       "      <th>881</th>\n",
       "      <td>757.915367</td>\n",
       "      <td>117.729751</td>\n",
       "      <td>527.169295</td>\n",
       "      <td>988.661438</td>\n",
       "    </tr>\n",
       "  </tbody>\n",
       "</table>\n",
       "<p>152 rows × 4 columns</p>\n",
       "</div>"
      ],
      "text/plain": [
       "Customers        mean     mean_se  mean_ci_lower  mean_ci_upper\n",
       "730        640.513068  116.510192     412.157289     868.868847\n",
       "731        695.409939  116.510772     467.053023     923.766855\n",
       "732        615.839827  116.510772     387.482910     844.196743\n",
       "733          0.000486  116.510772    -228.356430     228.357402\n",
       "734        730.593166  116.510772     502.236249     958.950082\n",
       "..                ...         ...            ...            ...\n",
       "877        599.237401  117.729751     368.491330     829.983473\n",
       "878        651.724334  117.729751     420.978263     882.470406\n",
       "879        634.553590  117.729751     403.807518     865.299662\n",
       "880          0.000481  117.729751    -230.745591     230.746552\n",
       "881        757.915367  117.729751     527.169295     988.661438\n",
       "\n",
       "[152 rows x 4 columns]"
      ]
     },
     "execution_count": 45,
     "metadata": {},
     "output_type": "execute_result"
    }
   ],
   "source": [
    "pred.summary_frame()"
   ]
  },
  {
   "cell_type": "code",
   "execution_count": 46,
   "metadata": {
    "ExecuteTime": {
     "end_time": "2020-05-29T09:47:54.318752Z",
     "start_time": "2020-05-29T09:47:54.152862Z"
    },
    "colab": {
     "base_uri": "https://localhost:8080/",
     "height": 34
    },
    "colab_type": "code",
    "id": "QSUJhdUj1J66",
    "outputId": "fb4bef8c-e7fe-4cac-e6c7-4609f4d6522f"
   },
   "outputs": [
    {
     "name": "stdout",
     "output_type": "stream",
     "text": [
      "149.29643250637548\n"
     ]
    }
   ],
   "source": [
    "from math import sqrt\n",
    "from sklearn.metrics import mean_squared_error\n",
    "rmse = sqrt(mean_squared_error(test.Customers ,pred.predicted_mean))\n",
    "print(rmse)"
   ]
  },
  {
   "cell_type": "code",
   "execution_count": 47,
   "metadata": {
    "ExecuteTime": {
     "end_time": "2020-05-29T09:47:54.504034Z",
     "start_time": "2020-05-29T09:47:54.320602Z"
    }
   },
   "outputs": [
    {
     "data": {
      "text/html": [
       "<div>\n",
       "<style scoped>\n",
       "    .dataframe tbody tr th:only-of-type {\n",
       "        vertical-align: middle;\n",
       "    }\n",
       "\n",
       "    .dataframe tbody tr th {\n",
       "        vertical-align: top;\n",
       "    }\n",
       "\n",
       "    .dataframe thead th {\n",
       "        text-align: right;\n",
       "    }\n",
       "</style>\n",
       "<table border=\"1\" class=\"dataframe\">\n",
       "  <thead>\n",
       "    <tr style=\"text-align: right;\">\n",
       "      <th></th>\n",
       "      <th>RMSE</th>\n",
       "    </tr>\n",
       "  </thead>\n",
       "  <tbody>\n",
       "    <tr>\n",
       "      <th>ARIMA(2,0,2)</th>\n",
       "      <td>236.992384</td>\n",
       "    </tr>\n",
       "    <tr>\n",
       "      <th>SARIMA(0,0,1)(2,0,2)7</th>\n",
       "      <td>149.296433</td>\n",
       "    </tr>\n",
       "  </tbody>\n",
       "</table>\n",
       "</div>"
      ],
      "text/plain": [
       "                             RMSE\n",
       "ARIMA(2,0,2)           236.992384\n",
       "SARIMA(0,0,1)(2,0,2)7  149.296433"
      ]
     },
     "execution_count": 47,
     "metadata": {},
     "output_type": "execute_result"
    }
   ],
   "source": [
    "temp_resultsDf = pd.DataFrame({'RMSE': [rmse]}\n",
    "                           ,index=['SARIMA(0,0,1)(2,0,2)7'])\n",
    "\n",
    "resultsDf = pd.concat([resultsDf, temp_resultsDf])\n",
    "resultsDf"
   ]
  },
  {
   "cell_type": "code",
   "execution_count": 48,
   "metadata": {
    "ExecuteTime": {
     "end_time": "2020-05-29T09:48:03.818096Z",
     "start_time": "2020-05-29T09:47:54.504034Z"
    },
    "colab": {
     "base_uri": "https://localhost:8080/",
     "height": 493
    },
    "colab_type": "code",
    "id": "O9vw84z91J7B",
    "outputId": "b9935f2a-2bc3-430a-94a3-14151d20ce0e"
   },
   "outputs": [
    {
     "name": "stdout",
     "output_type": "stream",
     "text": [
      "                                       SARIMAX Results                                        \n",
      "==============================================================================================\n",
      "Dep. Variable:                              Customers   No. Observations:                  882\n",
      "Model:             SARIMAX(0, 0, 1)x(2, 0, [1, 2], 7)   Log Likelihood               -5416.706\n",
      "Date:                                Sat, 02 Apr 2022   AIC                          10845.411\n",
      "Time:                                        22:19:43   BIC                          10873.995\n",
      "Sample:                                             0   HQIC                         10856.350\n",
      "                                                - 882                                         \n",
      "Covariance Type:                                  opg                                         \n",
      "==============================================================================\n",
      "                 coef    std err          z      P>|z|      [0.025      0.975]\n",
      "------------------------------------------------------------------------------\n",
      "ma.L1          0.0119      0.023      0.510      0.610      -0.034       0.058\n",
      "ar.S.L7        0.0984      0.066      1.502      0.133      -0.030       0.227\n",
      "ar.S.L14       0.9061      0.066     13.786      0.000       0.777       1.035\n",
      "ma.S.L7        0.1332      0.325      0.410      0.682      -0.503       0.770\n",
      "ma.S.L14      -1.1319      0.320     -3.533      0.000      -1.760      -0.504\n",
      "sigma2      1.188e+04   3510.381      3.385      0.001    5001.699    1.88e+04\n",
      "===================================================================================\n",
      "Ljung-Box (L1) (Q):                   0.12   Jarque-Bera (JB):              6720.82\n",
      "Prob(Q):                              0.72   Prob(JB):                         0.00\n",
      "Heteroskedasticity (H):               1.87   Skew:                            -2.76\n",
      "Prob(H) (two-sided):                  0.00   Kurtosis:                        15.48\n",
      "===================================================================================\n",
      "\n",
      "Warnings:\n",
      "[1] Covariance matrix calculated using the outer product of gradients (complex-step).\n"
     ]
    }
   ],
   "source": [
    "## To get the real forecast for 7 days, we will rerun the model on the complete dataset\n",
    "\n",
    "mod = sm.tsa.statespace.SARIMAX(Store50_1044['Customers'],\n",
    "                                order=(0,0,1),\n",
    "                                seasonal_order=(2, 0, 2, 7),\n",
    "                                enforce_stationarity=False,\n",
    "                                enforce_invertibility=False)\n",
    "results = mod.fit()\n",
    "print(results.summary())"
   ]
  },
  {
   "cell_type": "code",
   "execution_count": 49,
   "metadata": {
    "ExecuteTime": {
     "end_time": "2020-05-29T09:48:03.853962Z",
     "start_time": "2020-05-29T09:48:03.822252Z"
    },
    "colab": {
     "base_uri": "https://localhost:8080/",
     "height": 153
    },
    "colab_type": "code",
    "id": "FZ-LKlOX1J7J",
    "outputId": "882685ae-c88c-473d-dbbd-508cba5097a0"
   },
   "outputs": [
    {
     "data": {
      "text/plain": [
       "882    665.777993\n",
       "883    617.099553\n",
       "884    590.141130\n",
       "885    640.289677\n",
       "886    619.571183\n",
       "887     -0.002574\n",
       "888    725.534451\n",
       "Name: predicted_mean, dtype: float64"
      ]
     },
     "execution_count": 49,
     "metadata": {},
     "output_type": "execute_result"
    }
   ],
   "source": [
    "pred = results.get_forecast(steps=7)\n",
    "pred.predicted_mean"
   ]
  },
  {
   "cell_type": "code",
   "execution_count": 50,
   "metadata": {
    "ExecuteTime": {
     "end_time": "2020-05-29T09:48:04.008678Z",
     "start_time": "2020-05-29T09:48:03.858218Z"
    }
   },
   "outputs": [
    {
     "data": {
      "text/html": [
       "<div>\n",
       "<style scoped>\n",
       "    .dataframe tbody tr th:only-of-type {\n",
       "        vertical-align: middle;\n",
       "    }\n",
       "\n",
       "    .dataframe tbody tr th {\n",
       "        vertical-align: top;\n",
       "    }\n",
       "\n",
       "    .dataframe thead th {\n",
       "        text-align: right;\n",
       "    }\n",
       "</style>\n",
       "<table border=\"1\" class=\"dataframe\">\n",
       "  <thead>\n",
       "    <tr style=\"text-align: right;\">\n",
       "      <th>Customers</th>\n",
       "      <th>mean</th>\n",
       "      <th>mean_se</th>\n",
       "      <th>mean_ci_lower</th>\n",
       "      <th>mean_ci_upper</th>\n",
       "    </tr>\n",
       "  </thead>\n",
       "  <tbody>\n",
       "    <tr>\n",
       "      <th>882</th>\n",
       "      <td>665.777993</td>\n",
       "      <td>123.915986</td>\n",
       "      <td>422.907124</td>\n",
       "      <td>908.648862</td>\n",
       "    </tr>\n",
       "    <tr>\n",
       "      <th>883</th>\n",
       "      <td>617.099553</td>\n",
       "      <td>123.924757</td>\n",
       "      <td>374.211493</td>\n",
       "      <td>859.987612</td>\n",
       "    </tr>\n",
       "    <tr>\n",
       "      <th>884</th>\n",
       "      <td>590.141130</td>\n",
       "      <td>123.920859</td>\n",
       "      <td>347.260709</td>\n",
       "      <td>833.021551</td>\n",
       "    </tr>\n",
       "    <tr>\n",
       "      <th>885</th>\n",
       "      <td>640.289677</td>\n",
       "      <td>123.920859</td>\n",
       "      <td>397.409256</td>\n",
       "      <td>883.170098</td>\n",
       "    </tr>\n",
       "    <tr>\n",
       "      <th>886</th>\n",
       "      <td>619.571183</td>\n",
       "      <td>123.920859</td>\n",
       "      <td>376.690763</td>\n",
       "      <td>862.451604</td>\n",
       "    </tr>\n",
       "    <tr>\n",
       "      <th>887</th>\n",
       "      <td>-0.002574</td>\n",
       "      <td>123.920859</td>\n",
       "      <td>-242.882995</td>\n",
       "      <td>242.877847</td>\n",
       "    </tr>\n",
       "    <tr>\n",
       "      <th>888</th>\n",
       "      <td>725.534451</td>\n",
       "      <td>123.920859</td>\n",
       "      <td>482.654030</td>\n",
       "      <td>968.414872</td>\n",
       "    </tr>\n",
       "  </tbody>\n",
       "</table>\n",
       "</div>"
      ],
      "text/plain": [
       "Customers        mean     mean_se  mean_ci_lower  mean_ci_upper\n",
       "882        665.777993  123.915986     422.907124     908.648862\n",
       "883        617.099553  123.924757     374.211493     859.987612\n",
       "884        590.141130  123.920859     347.260709     833.021551\n",
       "885        640.289677  123.920859     397.409256     883.170098\n",
       "886        619.571183  123.920859     376.690763     862.451604\n",
       "887         -0.002574  123.920859    -242.882995     242.877847\n",
       "888        725.534451  123.920859     482.654030     968.414872"
      ]
     },
     "execution_count": 50,
     "metadata": {},
     "output_type": "execute_result"
    }
   ],
   "source": [
    "pred.summary_frame()"
   ]
  },
  {
   "cell_type": "markdown",
   "metadata": {},
   "source": [
    "# SARIMAX Models"
   ]
  },
  {
   "cell_type": "code",
   "execution_count": 51,
   "metadata": {
    "ExecuteTime": {
     "end_time": "2020-05-29T09:48:04.119982Z",
     "start_time": "2020-05-29T09:48:04.010046Z"
    },
    "colab": {},
    "colab_type": "code",
    "id": "TMpZWz261J73"
   },
   "outputs": [],
   "source": [
    "## This data set has exogeneous variables and hence the same should be considered while creating the model\n",
    "## so to start with let's create a subset which only has exogeneous variables\n"
   ]
  },
  {
   "cell_type": "code",
   "execution_count": 52,
   "metadata": {
    "ExecuteTime": {
     "end_time": "2020-05-29T09:48:04.254288Z",
     "start_time": "2020-05-29T09:48:04.125108Z"
    },
    "colab": {},
    "colab_type": "code",
    "id": "KyboBLJe1J8E"
   },
   "outputs": [],
   "source": [
    "ex_train=train[['Open','Promotion','StateHoliday','SchoolHoliday']]\n",
    "ex_test=test[['Open','Promotion','StateHoliday','SchoolHoliday']]"
   ]
  },
  {
   "cell_type": "code",
   "execution_count": 53,
   "metadata": {
    "ExecuteTime": {
     "end_time": "2020-05-29T09:48:04.410295Z",
     "start_time": "2020-05-29T09:48:04.259198Z"
    },
    "colab": {
     "base_uri": "https://localhost:8080/",
     "height": 204
    },
    "colab_type": "code",
    "id": "PWiBV0Gq1J8M",
    "outputId": "6dde1054-624c-4595-dd68-69b939e7e326"
   },
   "outputs": [
    {
     "data": {
      "text/html": [
       "<div>\n",
       "<style scoped>\n",
       "    .dataframe tbody tr th:only-of-type {\n",
       "        vertical-align: middle;\n",
       "    }\n",
       "\n",
       "    .dataframe tbody tr th {\n",
       "        vertical-align: top;\n",
       "    }\n",
       "\n",
       "    .dataframe thead th {\n",
       "        text-align: right;\n",
       "    }\n",
       "</style>\n",
       "<table border=\"1\" class=\"dataframe\">\n",
       "  <thead>\n",
       "    <tr style=\"text-align: right;\">\n",
       "      <th></th>\n",
       "      <th>Open</th>\n",
       "      <th>Promotion</th>\n",
       "      <th>StateHoliday</th>\n",
       "      <th>SchoolHoliday</th>\n",
       "    </tr>\n",
       "  </thead>\n",
       "  <tbody>\n",
       "    <tr>\n",
       "      <th>43275</th>\n",
       "      <td>0</td>\n",
       "      <td>0</td>\n",
       "      <td>1</td>\n",
       "      <td>1</td>\n",
       "    </tr>\n",
       "    <tr>\n",
       "      <th>43224</th>\n",
       "      <td>1</td>\n",
       "      <td>0</td>\n",
       "      <td>0</td>\n",
       "      <td>1</td>\n",
       "    </tr>\n",
       "    <tr>\n",
       "      <th>43173</th>\n",
       "      <td>1</td>\n",
       "      <td>0</td>\n",
       "      <td>0</td>\n",
       "      <td>1</td>\n",
       "    </tr>\n",
       "    <tr>\n",
       "      <th>43122</th>\n",
       "      <td>1</td>\n",
       "      <td>0</td>\n",
       "      <td>0</td>\n",
       "      <td>1</td>\n",
       "    </tr>\n",
       "    <tr>\n",
       "      <th>43071</th>\n",
       "      <td>1</td>\n",
       "      <td>0</td>\n",
       "      <td>0</td>\n",
       "      <td>0</td>\n",
       "    </tr>\n",
       "  </tbody>\n",
       "</table>\n",
       "</div>"
      ],
      "text/plain": [
       "       Open  Promotion StateHoliday  SchoolHoliday\n",
       "43275     0          0            1              1\n",
       "43224     1          0            0              1\n",
       "43173     1          0            0              1\n",
       "43122     1          0            0              1\n",
       "43071     1          0            0              0"
      ]
     },
     "execution_count": 53,
     "metadata": {},
     "output_type": "execute_result"
    }
   ],
   "source": [
    "## State variable has numeric character which has to be convered\n",
    "ex_train[\"StateHoliday\"].loc[ex_train[\"StateHoliday\"] == \"0\"] = 0\n",
    "ex_train[\"StateHoliday\"].loc[ex_train[\"StateHoliday\"] == \"a\"] = 1\n",
    "ex_train[\"StateHoliday\"].loc[ex_train[\"StateHoliday\"] == \"b\"] = 2\n",
    "ex_train[\"StateHoliday\"].loc[ex_train[\"StateHoliday\"] == \"c\"] = 3\n",
    "ex_train.head()"
   ]
  },
  {
   "cell_type": "code",
   "execution_count": 54,
   "metadata": {
    "ExecuteTime": {
     "end_time": "2020-05-29T09:48:04.513549Z",
     "start_time": "2020-05-29T09:48:04.412737Z"
    }
   },
   "outputs": [
    {
     "name": "stdout",
     "output_type": "stream",
     "text": [
      "<class 'pandas.core.frame.DataFrame'>\n",
      "Int64Index: 730 entries, 43275 to 7752\n",
      "Data columns (total 4 columns):\n",
      " #   Column         Non-Null Count  Dtype \n",
      "---  ------         --------------  ----- \n",
      " 0   Open           730 non-null    int64 \n",
      " 1   Promotion      730 non-null    int64 \n",
      " 2   StateHoliday   730 non-null    object\n",
      " 3   SchoolHoliday  730 non-null    int64 \n",
      "dtypes: int64(3), object(1)\n",
      "memory usage: 28.5+ KB\n"
     ]
    }
   ],
   "source": [
    "ex_train.info()"
   ]
  },
  {
   "cell_type": "code",
   "execution_count": 55,
   "metadata": {
    "ExecuteTime": {
     "end_time": "2020-05-29T09:48:04.642351Z",
     "start_time": "2020-05-29T09:48:04.517206Z"
    }
   },
   "outputs": [
    {
     "name": "stdout",
     "output_type": "stream",
     "text": [
      "<class 'pandas.core.frame.DataFrame'>\n",
      "Int64Index: 730 entries, 43275 to 7752\n",
      "Data columns (total 4 columns):\n",
      " #   Column         Non-Null Count  Dtype\n",
      "---  ------         --------------  -----\n",
      " 0   Open           730 non-null    int64\n",
      " 1   Promotion      730 non-null    int64\n",
      " 2   StateHoliday   730 non-null    int64\n",
      " 3   SchoolHoliday  730 non-null    int64\n",
      "dtypes: int64(4)\n",
      "memory usage: 28.5 KB\n"
     ]
    }
   ],
   "source": [
    "ex_train['StateHoliday'] = ex_train['StateHoliday'].astype('int64')\n",
    "ex_train.info()"
   ]
  },
  {
   "cell_type": "code",
   "execution_count": 56,
   "metadata": {
    "ExecuteTime": {
     "end_time": "2020-05-29T09:48:04.793427Z",
     "start_time": "2020-05-29T09:48:04.644346Z"
    },
    "colab": {
     "base_uri": "https://localhost:8080/",
     "height": 204
    },
    "colab_type": "code",
    "id": "uO-mAAQy1J8T",
    "outputId": "97585e6a-64a5-4a99-a7cd-456855bc86c3"
   },
   "outputs": [
    {
     "data": {
      "text/html": [
       "<div>\n",
       "<style scoped>\n",
       "    .dataframe tbody tr th:only-of-type {\n",
       "        vertical-align: middle;\n",
       "    }\n",
       "\n",
       "    .dataframe tbody tr th {\n",
       "        vertical-align: top;\n",
       "    }\n",
       "\n",
       "    .dataframe thead th {\n",
       "        text-align: right;\n",
       "    }\n",
       "</style>\n",
       "<table border=\"1\" class=\"dataframe\">\n",
       "  <thead>\n",
       "    <tr style=\"text-align: right;\">\n",
       "      <th></th>\n",
       "      <th>Open</th>\n",
       "      <th>Promotion</th>\n",
       "      <th>StateHoliday</th>\n",
       "      <th>SchoolHoliday</th>\n",
       "    </tr>\n",
       "  </thead>\n",
       "  <tbody>\n",
       "    <tr>\n",
       "      <th>7701</th>\n",
       "      <td>0</td>\n",
       "      <td>0</td>\n",
       "      <td>1</td>\n",
       "      <td>1</td>\n",
       "    </tr>\n",
       "    <tr>\n",
       "      <th>7650</th>\n",
       "      <td>1</td>\n",
       "      <td>0</td>\n",
       "      <td>0</td>\n",
       "      <td>1</td>\n",
       "    </tr>\n",
       "    <tr>\n",
       "      <th>7599</th>\n",
       "      <td>1</td>\n",
       "      <td>0</td>\n",
       "      <td>0</td>\n",
       "      <td>0</td>\n",
       "    </tr>\n",
       "    <tr>\n",
       "      <th>7548</th>\n",
       "      <td>0</td>\n",
       "      <td>0</td>\n",
       "      <td>0</td>\n",
       "      <td>0</td>\n",
       "    </tr>\n",
       "    <tr>\n",
       "      <th>7497</th>\n",
       "      <td>1</td>\n",
       "      <td>1</td>\n",
       "      <td>0</td>\n",
       "      <td>1</td>\n",
       "    </tr>\n",
       "  </tbody>\n",
       "</table>\n",
       "</div>"
      ],
      "text/plain": [
       "      Open  Promotion StateHoliday  SchoolHoliday\n",
       "7701     0          0            1              1\n",
       "7650     1          0            0              1\n",
       "7599     1          0            0              0\n",
       "7548     0          0            0              0\n",
       "7497     1          1            0              1"
      ]
     },
     "execution_count": 56,
     "metadata": {},
     "output_type": "execute_result"
    }
   ],
   "source": [
    "## State variable has numeric character which has to be convered\n",
    "ex_test[\"StateHoliday\"].loc[ex_test[\"StateHoliday\"] == \"0\"] = 0\n",
    "ex_test[\"StateHoliday\"].loc[ex_test[\"StateHoliday\"] == \"a\"] = 1\n",
    "ex_test[\"StateHoliday\"].loc[ex_test[\"StateHoliday\"] == \"b\"] = 2\n",
    "ex_test[\"StateHoliday\"].loc[ex_test[\"StateHoliday\"] == \"c\"] = 3\n",
    "ex_test.head()"
   ]
  },
  {
   "cell_type": "code",
   "execution_count": 57,
   "metadata": {
    "ExecuteTime": {
     "end_time": "2020-05-29T09:48:04.926948Z",
     "start_time": "2020-05-29T09:48:04.798326Z"
    }
   },
   "outputs": [
    {
     "name": "stdout",
     "output_type": "stream",
     "text": [
      "<class 'pandas.core.frame.DataFrame'>\n",
      "Int64Index: 152 entries, 7701 to 0\n",
      "Data columns (total 4 columns):\n",
      " #   Column         Non-Null Count  Dtype \n",
      "---  ------         --------------  ----- \n",
      " 0   Open           152 non-null    int64 \n",
      " 1   Promotion      152 non-null    int64 \n",
      " 2   StateHoliday   152 non-null    object\n",
      " 3   SchoolHoliday  152 non-null    int64 \n",
      "dtypes: int64(3), object(1)\n",
      "memory usage: 5.9+ KB\n"
     ]
    }
   ],
   "source": [
    "ex_test.info()"
   ]
  },
  {
   "cell_type": "code",
   "execution_count": 58,
   "metadata": {
    "ExecuteTime": {
     "end_time": "2020-05-29T09:48:05.054393Z",
     "start_time": "2020-05-29T09:48:04.930106Z"
    }
   },
   "outputs": [
    {
     "name": "stdout",
     "output_type": "stream",
     "text": [
      "<class 'pandas.core.frame.DataFrame'>\n",
      "Int64Index: 152 entries, 7701 to 0\n",
      "Data columns (total 4 columns):\n",
      " #   Column         Non-Null Count  Dtype\n",
      "---  ------         --------------  -----\n",
      " 0   Open           152 non-null    int64\n",
      " 1   Promotion      152 non-null    int64\n",
      " 2   StateHoliday   152 non-null    int64\n",
      " 3   SchoolHoliday  152 non-null    int64\n",
      "dtypes: int64(4)\n",
      "memory usage: 5.9 KB\n"
     ]
    }
   ],
   "source": [
    "ex_test['StateHoliday'] = ex_test['StateHoliday'].astype('int64')\n",
    "ex_test.info()"
   ]
  },
  {
   "cell_type": "code",
   "execution_count": 59,
   "metadata": {
    "ExecuteTime": {
     "end_time": "2020-05-29T09:48:05.160180Z",
     "start_time": "2020-05-29T09:48:05.059107Z"
    }
   },
   "outputs": [
    {
     "name": "stdout",
     "output_type": "stream",
     "text": [
      "Empty DataFrame\n",
      "Columns: [param, seasonal, AIC]\n",
      "Index: []\n"
     ]
    }
   ],
   "source": [
    "SARIMAX_AIC = pd.DataFrame(columns=['param','seasonal', 'AIC'])\n",
    "print(SARIMAX_AIC)"
   ]
  },
  {
   "cell_type": "code",
   "execution_count": 60,
   "metadata": {
    "ExecuteTime": {
     "end_time": "2020-05-29T09:58:53.578995Z",
     "start_time": "2020-05-29T09:48:05.165915Z"
    },
    "colab": {
     "base_uri": "https://localhost:8080/",
     "height": 1000
    },
    "colab_type": "code",
    "id": "WFy7b-CQ1J8f",
    "outputId": "2f255b5c-dd53-49e6-9981-18793c8b9c4e",
    "scrolled": true
   },
   "outputs": [
    {
     "name": "stdout",
     "output_type": "stream",
     "text": [
      "SARIMA(0, 0, 0)(0, 0, 0, 7) - AIC:8449.698132723766\n",
      "SARIMA(0, 0, 0)(0, 0, 1, 7) - AIC:8279.926343102528\n",
      "SARIMA(0, 0, 0)(0, 0, 2, 7) - AIC:8108.89025250628\n",
      "SARIMA(0, 0, 0)(1, 0, 0, 7) - AIC:8211.177164293795\n",
      "SARIMA(0, 0, 0)(1, 0, 1, 7) - AIC:7981.845252332787\n",
      "SARIMA(0, 0, 0)(1, 0, 2, 7) - AIC:7910.396181518098\n",
      "SARIMA(0, 0, 0)(2, 0, 0, 7) - AIC:8009.100682711989\n",
      "SARIMA(0, 0, 0)(2, 0, 1, 7) - AIC:7919.600161074247\n",
      "SARIMA(0, 0, 0)(2, 0, 2, 7) - AIC:7892.712117723913\n",
      "SARIMA(0, 0, 1)(0, 0, 0, 7) - AIC:8359.036965029212\n",
      "SARIMA(0, 0, 1)(0, 0, 1, 7) - AIC:8198.543280681135\n",
      "SARIMA(0, 0, 1)(0, 0, 2, 7) - AIC:8043.613104195383\n",
      "SARIMA(0, 0, 1)(1, 0, 0, 7) - AIC:8157.242139252778\n",
      "SARIMA(0, 0, 1)(1, 0, 1, 7) - AIC:7940.39047442307\n",
      "SARIMA(0, 0, 1)(1, 0, 2, 7) - AIC:7865.360469208968\n",
      "SARIMA(0, 0, 1)(2, 0, 0, 7) - AIC:7974.072466805534\n",
      "SARIMA(0, 0, 1)(2, 0, 1, 7) - AIC:7885.554223404449\n",
      "SARIMA(0, 0, 1)(2, 0, 2, 7) - AIC:7859.526348808538\n",
      "SARIMA(0, 0, 2)(0, 0, 0, 7) - AIC:8317.247001195869\n",
      "SARIMA(0, 0, 2)(0, 0, 1, 7) - AIC:8165.550343486424\n",
      "SARIMA(0, 0, 2)(0, 0, 2, 7) - AIC:8012.487114491172\n",
      "SARIMA(0, 0, 2)(1, 0, 0, 7) - AIC:8142.266599524677\n",
      "SARIMA(0, 0, 2)(1, 0, 1, 7) - AIC:7915.392173894251\n",
      "SARIMA(0, 0, 2)(1, 0, 2, 7) - AIC:7834.972555838009\n",
      "SARIMA(0, 0, 2)(2, 0, 0, 7) - AIC:7956.210560087597\n",
      "SARIMA(0, 0, 2)(2, 0, 1, 7) - AIC:7864.6947141351775\n",
      "SARIMA(0, 0, 2)(2, 0, 2, 7) - AIC:7827.932857042861\n",
      "SARIMA(1, 0, 0)(0, 0, 0, 7) - AIC:8328.588538728563\n",
      "SARIMA(1, 0, 0)(0, 0, 1, 7) - AIC:8182.837193678239\n",
      "SARIMA(1, 0, 0)(0, 0, 2, 7) - AIC:8029.988157170492\n",
      "SARIMA(1, 0, 0)(1, 0, 0, 7) - AIC:8124.4993340668225\n",
      "SARIMA(1, 0, 0)(1, 0, 1, 7) - AIC:7934.362714735911\n",
      "SARIMA(1, 0, 0)(1, 0, 2, 7) - AIC:7860.833375304852\n",
      "SARIMA(1, 0, 0)(2, 0, 0, 7) - AIC:7937.537470047715\n",
      "SARIMA(1, 0, 0)(2, 0, 1, 7) - AIC:7859.164999668072\n",
      "SARIMA(1, 0, 0)(2, 0, 2, 7) - AIC:7850.66281238127\n",
      "SARIMA(1, 0, 1)(0, 0, 0, 7) - AIC:8242.684773694597\n",
      "SARIMA(1, 0, 1)(0, 0, 1, 7) - AIC:8133.832352131649\n",
      "SARIMA(1, 0, 1)(0, 0, 2, 7) - AIC:7984.961362429514\n",
      "SARIMA(1, 0, 1)(1, 0, 0, 7) - AIC:8100.865114535183\n",
      "SARIMA(1, 0, 1)(1, 0, 1, 7) - AIC:7888.380201489963\n",
      "SARIMA(1, 0, 1)(1, 0, 2, 7) - AIC:7807.874695042528\n",
      "SARIMA(1, 0, 1)(2, 0, 0, 7) - AIC:7908.456642695032\n",
      "SARIMA(1, 0, 1)(2, 0, 1, 7) - AIC:7816.51985954608\n",
      "SARIMA(1, 0, 1)(2, 0, 2, 7) - AIC:7808.5488154248105\n",
      "SARIMA(1, 0, 2)(0, 0, 0, 7) - AIC:8213.84618945927\n",
      "SARIMA(1, 0, 2)(0, 0, 1, 7) - AIC:8104.883678902738\n",
      "SARIMA(1, 0, 2)(0, 0, 2, 7) - AIC:7975.970568025859\n",
      "SARIMA(1, 0, 2)(1, 0, 0, 7) - AIC:8102.79703335261\n",
      "SARIMA(1, 0, 2)(1, 0, 1, 7) - AIC:7885.606793813633\n",
      "SARIMA(1, 0, 2)(1, 0, 2, 7) - AIC:7794.667578228318\n",
      "SARIMA(1, 0, 2)(2, 0, 0, 7) - AIC:7907.257066496671\n",
      "SARIMA(1, 0, 2)(2, 0, 1, 7) - AIC:7813.936401421195\n",
      "SARIMA(1, 0, 2)(2, 0, 2, 7) - AIC:7793.802945341195\n",
      "SARIMA(2, 0, 0)(0, 0, 0, 7) - AIC:8291.647221975967\n",
      "SARIMA(2, 0, 0)(0, 0, 1, 7) - AIC:8165.605721914714\n",
      "SARIMA(2, 0, 0)(0, 0, 2, 7) - AIC:8009.937210490374\n",
      "SARIMA(2, 0, 0)(1, 0, 0, 7) - AIC:8097.496500539908\n",
      "SARIMA(2, 0, 0)(1, 0, 1, 7) - AIC:7899.058917578004\n",
      "SARIMA(2, 0, 0)(1, 0, 2, 7) - AIC:7833.222526030244\n",
      "SARIMA(2, 0, 0)(2, 0, 0, 7) - AIC:7905.172596977003\n",
      "SARIMA(2, 0, 0)(2, 0, 1, 7) - AIC:7818.739418388979\n",
      "SARIMA(2, 0, 0)(2, 0, 2, 7) - AIC:7815.12060113614\n",
      "SARIMA(2, 0, 1)(0, 0, 0, 7) - AIC:8226.046358407017\n",
      "SARIMA(2, 0, 1)(0, 0, 1, 7) - AIC:8117.696481701381\n",
      "SARIMA(2, 0, 1)(0, 0, 2, 7) - AIC:7976.114747857933\n",
      "SARIMA(2, 0, 1)(1, 0, 0, 7) - AIC:8091.354948885809\n",
      "SARIMA(2, 0, 1)(1, 0, 1, 7) - AIC:7889.362654766537\n",
      "SARIMA(2, 0, 1)(1, 0, 2, 7) - AIC:7814.657792416132\n",
      "SARIMA(2, 0, 1)(2, 0, 0, 7) - AIC:7896.894727597904\n",
      "SARIMA(2, 0, 1)(2, 0, 1, 7) - AIC:7810.640068209041\n",
      "SARIMA(2, 0, 1)(2, 0, 2, 7) - AIC:7805.172648270785\n",
      "SARIMA(2, 0, 2)(0, 0, 0, 7) - AIC:8222.883655692098\n",
      "SARIMA(2, 0, 2)(0, 0, 1, 7) - AIC:8116.371261966221\n",
      "SARIMA(2, 0, 2)(0, 0, 2, 7) - AIC:7981.334141601247\n",
      "SARIMA(2, 0, 2)(1, 0, 0, 7) - AIC:8097.530852242616\n",
      "SARIMA(2, 0, 2)(1, 0, 1, 7) - AIC:7907.7411111463325\n",
      "SARIMA(2, 0, 2)(1, 0, 2, 7) - AIC:7810.645576338259\n",
      "SARIMA(2, 0, 2)(2, 0, 0, 7) - AIC:7909.591691403892\n",
      "SARIMA(2, 0, 2)(2, 0, 1, 7) - AIC:7845.312063360622\n",
      "SARIMA(2, 0, 2)(2, 0, 2, 7) - AIC:7811.474359347901\n"
     ]
    }
   ],
   "source": [
    "## Let's first use SARIMAX with exogenous variable \n",
    "\n",
    "for param in pdq:\n",
    "    for param_seasonal in model_pdq:\n",
    "        mod = sm.tsa.statespace.SARIMAX(train['Customers'],exog=ex_train,\n",
    "                                            order=param,\n",
    "                                            seasonal_order=param_seasonal,\n",
    "                                            enforce_stationarity=False,\n",
    "                                            enforce_invertibility=False)\n",
    "            \n",
    "        results_SARIMAX = mod.fit()\n",
    "        print('SARIMA{}{} - AIC:{}'.format(param, param_seasonal, results_SARIMAX.aic))\n",
    "        SARIMAX_AIC = SARIMAX_AIC.append({'param':param,'seasonal':param_seasonal ,'AIC': results_SARIMAX.aic}, ignore_index=True)\n"
   ]
  },
  {
   "cell_type": "code",
   "execution_count": 61,
   "metadata": {
    "ExecuteTime": {
     "end_time": "2020-05-29T09:58:53.620920Z",
     "start_time": "2020-05-29T09:58:53.581426Z"
    }
   },
   "outputs": [
    {
     "data": {
      "text/html": [
       "<div>\n",
       "<style scoped>\n",
       "    .dataframe tbody tr th:only-of-type {\n",
       "        vertical-align: middle;\n",
       "    }\n",
       "\n",
       "    .dataframe tbody tr th {\n",
       "        vertical-align: top;\n",
       "    }\n",
       "\n",
       "    .dataframe thead th {\n",
       "        text-align: right;\n",
       "    }\n",
       "</style>\n",
       "<table border=\"1\" class=\"dataframe\">\n",
       "  <thead>\n",
       "    <tr style=\"text-align: right;\">\n",
       "      <th></th>\n",
       "      <th>param</th>\n",
       "      <th>seasonal</th>\n",
       "      <th>AIC</th>\n",
       "    </tr>\n",
       "  </thead>\n",
       "  <tbody>\n",
       "    <tr>\n",
       "      <th>53</th>\n",
       "      <td>(1, 0, 2)</td>\n",
       "      <td>(2, 0, 2, 7)</td>\n",
       "      <td>7793.802945</td>\n",
       "    </tr>\n",
       "    <tr>\n",
       "      <th>50</th>\n",
       "      <td>(1, 0, 2)</td>\n",
       "      <td>(1, 0, 2, 7)</td>\n",
       "      <td>7794.667578</td>\n",
       "    </tr>\n",
       "    <tr>\n",
       "      <th>71</th>\n",
       "      <td>(2, 0, 1)</td>\n",
       "      <td>(2, 0, 2, 7)</td>\n",
       "      <td>7805.172648</td>\n",
       "    </tr>\n",
       "    <tr>\n",
       "      <th>41</th>\n",
       "      <td>(1, 0, 1)</td>\n",
       "      <td>(1, 0, 2, 7)</td>\n",
       "      <td>7807.874695</td>\n",
       "    </tr>\n",
       "    <tr>\n",
       "      <th>44</th>\n",
       "      <td>(1, 0, 1)</td>\n",
       "      <td>(2, 0, 2, 7)</td>\n",
       "      <td>7808.548815</td>\n",
       "    </tr>\n",
       "  </tbody>\n",
       "</table>\n",
       "</div>"
      ],
      "text/plain": [
       "        param      seasonal          AIC\n",
       "53  (1, 0, 2)  (2, 0, 2, 7)  7793.802945\n",
       "50  (1, 0, 2)  (1, 0, 2, 7)  7794.667578\n",
       "71  (2, 0, 1)  (2, 0, 2, 7)  7805.172648\n",
       "41  (1, 0, 1)  (1, 0, 2, 7)  7807.874695\n",
       "44  (1, 0, 1)  (2, 0, 2, 7)  7808.548815"
      ]
     },
     "execution_count": 61,
     "metadata": {},
     "output_type": "execute_result"
    }
   ],
   "source": [
    "SARIMAX_AIC.sort_values(by=['AIC']).head()"
   ]
  },
  {
   "cell_type": "code",
   "execution_count": 62,
   "metadata": {
    "ExecuteTime": {
     "end_time": "2020-05-29T09:59:08.717185Z",
     "start_time": "2020-05-29T09:58:53.623523Z"
    },
    "colab": {
     "base_uri": "https://localhost:8080/",
     "height": 459
    },
    "colab_type": "code",
    "id": "eyp3pVxj1J8o",
    "outputId": "ae21592e-1052-424a-89f2-4cb01c970219"
   },
   "outputs": [
    {
     "name": "stdout",
     "output_type": "stream",
     "text": [
      "                                     SARIMAX Results                                     \n",
      "=========================================================================================\n",
      "Dep. Variable:                         Customers   No. Observations:                  730\n",
      "Model:             SARIMAX(1, 0, 2)x(2, 0, 2, 7)   Log Likelihood               -3884.901\n",
      "Date:                           Sat, 02 Apr 2022   AIC                           7793.803\n",
      "Time:                                   22:24:35   BIC                           7848.637\n",
      "Sample:                                        0   HQIC                          7814.981\n",
      "                                           - 730                                         \n",
      "Covariance Type:                             opg                                         \n",
      "=================================================================================\n",
      "                    coef    std err          z      P>|z|      [0.025      0.975]\n",
      "---------------------------------------------------------------------------------\n",
      "Open            518.1318     22.446     23.084      0.000     474.139     562.125\n",
      "Promotion        94.1517      6.962     13.524      0.000      80.507     107.796\n",
      "StateHoliday    -18.6205     13.276     -1.403      0.161     -44.640       7.399\n",
      "SchoolHoliday    13.3681      6.368      2.099      0.036       0.887      25.849\n",
      "ar.L1             0.7971      0.052     15.244      0.000       0.695       0.900\n",
      "ma.L1            -0.6557      0.064    -10.313      0.000      -0.780      -0.531\n",
      "ma.L2             0.1158      0.032      3.572      0.000       0.052       0.179\n",
      "ar.S.L7           0.2512      0.100      2.512      0.012       0.055       0.447\n",
      "ar.S.L14          0.7375      0.099      7.431      0.000       0.543       0.932\n",
      "ma.S.L7          -0.2417      0.118     -2.045      0.041      -0.473      -0.010\n",
      "ma.S.L14         -0.5366      0.107     -4.996      0.000      -0.747      -0.326\n",
      "sigma2         3116.2691    109.203     28.536      0.000    2902.235    3330.303\n",
      "===================================================================================\n",
      "Ljung-Box (L1) (Q):                   0.01   Jarque-Bera (JB):               962.33\n",
      "Prob(Q):                              0.92   Prob(JB):                         0.00\n",
      "Heteroskedasticity (H):               2.11   Skew:                             0.92\n",
      "Prob(H) (two-sided):                  0.00   Kurtosis:                         8.39\n",
      "===================================================================================\n",
      "\n",
      "Warnings:\n",
      "[1] Covariance matrix calculated using the outer product of gradients (complex-step).\n"
     ]
    }
   ],
   "source": [
    "## SARIMA(1, 0, 2)(2, 0, 2, 7)\n",
    "mod = sm.tsa.statespace.SARIMAX(train['Customers'],exog=ex_train,\n",
    "                                order=(1,0,2),\n",
    "                                seasonal_order=(2, 0, 2, 7),\n",
    "                                enforce_stationarity=False,\n",
    "                                enforce_invertibility=False)\n",
    "results = mod.fit()\n",
    "print(results.summary())"
   ]
  },
  {
   "cell_type": "code",
   "execution_count": 63,
   "metadata": {
    "ExecuteTime": {
     "end_time": "2020-05-29T09:59:08.766550Z",
     "start_time": "2020-05-29T09:59:08.717185Z"
    }
   },
   "outputs": [
    {
     "data": {
      "text/plain": [
       "730     32.709148\n",
       "731    588.279802\n",
       "732    623.650681\n",
       "733     -8.879075\n",
       "734    811.749112\n",
       "          ...    \n",
       "877    547.425811\n",
       "878    568.257571\n",
       "879    601.693691\n",
       "880     -1.187545\n",
       "881    762.636625\n",
       "Name: predicted_mean, Length: 152, dtype: float64"
      ]
     },
     "execution_count": 63,
     "metadata": {},
     "output_type": "execute_result"
    }
   ],
   "source": [
    "pred = results.get_forecast(steps=152,exog=ex_test)\n",
    "pred.predicted_mean"
   ]
  },
  {
   "cell_type": "code",
   "execution_count": 64,
   "metadata": {
    "ExecuteTime": {
     "end_time": "2020-05-29T09:59:08.814018Z",
     "start_time": "2020-05-29T09:59:08.771937Z"
    }
   },
   "outputs": [
    {
     "name": "stdout",
     "output_type": "stream",
     "text": [
      "60.83493133729799\n"
     ]
    }
   ],
   "source": [
    "rmse_SARIMAX = sqrt(mean_squared_error(test.Customers ,pred.predicted_mean))\n",
    "print(rmse_SARIMAX)"
   ]
  },
  {
   "cell_type": "code",
   "execution_count": 65,
   "metadata": {
    "ExecuteTime": {
     "end_time": "2020-05-29T09:59:08.952441Z",
     "start_time": "2020-05-29T09:59:08.815396Z"
    }
   },
   "outputs": [
    {
     "data": {
      "text/html": [
       "<div>\n",
       "<style scoped>\n",
       "    .dataframe tbody tr th:only-of-type {\n",
       "        vertical-align: middle;\n",
       "    }\n",
       "\n",
       "    .dataframe tbody tr th {\n",
       "        vertical-align: top;\n",
       "    }\n",
       "\n",
       "    .dataframe thead th {\n",
       "        text-align: right;\n",
       "    }\n",
       "</style>\n",
       "<table border=\"1\" class=\"dataframe\">\n",
       "  <thead>\n",
       "    <tr style=\"text-align: right;\">\n",
       "      <th></th>\n",
       "      <th>RMSE</th>\n",
       "    </tr>\n",
       "  </thead>\n",
       "  <tbody>\n",
       "    <tr>\n",
       "      <th>ARIMA(2,0,2)</th>\n",
       "      <td>236.992384</td>\n",
       "    </tr>\n",
       "    <tr>\n",
       "      <th>SARIMA(0,0,1)(2,0,2)7</th>\n",
       "      <td>149.296433</td>\n",
       "    </tr>\n",
       "    <tr>\n",
       "      <th>SARIMAX(1,0,2)(2,0,2)7</th>\n",
       "      <td>60.834931</td>\n",
       "    </tr>\n",
       "  </tbody>\n",
       "</table>\n",
       "</div>"
      ],
      "text/plain": [
       "                              RMSE\n",
       "ARIMA(2,0,2)            236.992384\n",
       "SARIMA(0,0,1)(2,0,2)7   149.296433\n",
       "SARIMAX(1,0,2)(2,0,2)7   60.834931"
      ]
     },
     "execution_count": 65,
     "metadata": {},
     "output_type": "execute_result"
    }
   ],
   "source": [
    "temp_resultsDf = pd.DataFrame({'RMSE': [rmse_SARIMAX]}\n",
    "                           ,index=['SARIMAX(1,0,2)(2,0,2)7'])\n",
    "\n",
    "resultsDf = pd.concat([resultsDf, temp_resultsDf])\n",
    "resultsDf"
   ]
  },
  {
   "cell_type": "code",
   "execution_count": 66,
   "metadata": {
    "ExecuteTime": {
     "end_time": "2020-05-29T09:59:29.387506Z",
     "start_time": "2020-05-29T09:59:08.954475Z"
    }
   },
   "outputs": [
    {
     "name": "stdout",
     "output_type": "stream",
     "text": [
      "                                     SARIMAX Results                                     \n",
      "=========================================================================================\n",
      "Dep. Variable:                         Customers   No. Observations:                  730\n",
      "Model:             SARIMAX(1, 0, 2)x(2, 0, 2, 7)   Log Likelihood               -3862.513\n",
      "Date:                           Sat, 02 Apr 2022   AIC                           7749.026\n",
      "Time:                                   22:24:41   BIC                           7803.793\n",
      "Sample:                                        0   HQIC                          7770.184\n",
      "                                           - 730                                         \n",
      "Covariance Type:                             opg                                         \n",
      "=====================================================================================\n",
      "                        coef    std err          z      P>|z|      [0.025      0.975]\n",
      "-------------------------------------------------------------------------------------\n",
      "ar.L1                 0.4734      0.158      2.989      0.003       0.163       0.784\n",
      "ma.L1                -0.3086      0.157     -1.970      0.049      -0.616      -0.002\n",
      "ma.L2                 0.1319      0.040      3.268      0.001       0.053       0.211\n",
      "ar.S.L7               0.2857      0.099      2.885      0.004       0.092       0.480\n",
      "ar.S.L14              0.7241      0.099      7.279      0.000       0.529       0.919\n",
      "ma.S.L7              -0.3676      0.110     -3.332      0.001      -0.584      -0.151\n",
      "ma.S.L14             -0.5739      0.112     -5.144      0.000      -0.793      -0.355\n",
      "var.Open             25.3243      6.613      3.830      0.000      12.363      38.285\n",
      "var.Promotion         8.2547      8.400      0.983      0.326      -8.210      24.719\n",
      "var.StateHoliday      9.4295     14.062      0.671      0.502     -18.131      36.990\n",
      "var.SchoolHoliday     2.6053      1.993      1.307      0.191      -1.302       6.512\n",
      "sigma2             2456.4898     84.995     28.902      0.000    2289.903    2623.077\n",
      "===================================================================================\n",
      "Ljung-Box (L1) (Q):                   1.10   Jarque-Bera (JB):               748.08\n",
      "Prob(Q):                              0.30   Prob(JB):                         0.00\n",
      "Heteroskedasticity (H):               1.99   Skew:                             0.35\n",
      "Prob(H) (two-sided):                  0.00   Kurtosis:                         7.98\n",
      "===================================================================================\n",
      "\n",
      "Warnings:\n",
      "[1] Covariance matrix calculated using the outer product of gradients (complex-step).\n"
     ]
    }
   ],
   "source": [
    "## Let's use SARIMAX with exogenous variable whose coefficients are allowed to vary over time \n",
    "## Time Varying Linear Model[TVLM] SARIMA(1, 0, 2)(2, 0, 2, 7)\n",
    "mod = sm.tsa.statespace.SARIMAX(train['Customers'],exog=ex_train,time_varying_regression=True,mle_regression=False,\n",
    "                                order=(1,0,2),\n",
    "                                seasonal_order=(2, 0, 2, 7),\n",
    "                                enforce_stationarity=False,\n",
    "                                enforce_invertibility=False)\n",
    "results = mod.fit()\n",
    "print(results.summary())"
   ]
  },
  {
   "cell_type": "code",
   "execution_count": 67,
   "metadata": {
    "ExecuteTime": {
     "end_time": "2020-05-29T09:59:29.419674Z",
     "start_time": "2020-05-29T09:59:29.392136Z"
    },
    "colab": {
     "base_uri": "https://localhost:8080/",
     "height": 221
    },
    "colab_type": "code",
    "id": "ab7_qyEV1J8v",
    "outputId": "2d9fa3f4-bb78-4b5c-a908-4fcabbe9ba81"
   },
   "outputs": [
    {
     "data": {
      "text/plain": [
       "730    -77.133703\n",
       "731    626.444446\n",
       "732    652.651586\n",
       "733     -6.630557\n",
       "734    875.944660\n",
       "          ...    \n",
       "877    564.817084\n",
       "878    604.515886\n",
       "879    639.602066\n",
       "880     -0.297952\n",
       "881    824.434894\n",
       "Name: predicted_mean, Length: 152, dtype: float64"
      ]
     },
     "execution_count": 67,
     "metadata": {},
     "output_type": "execute_result"
    }
   ],
   "source": [
    "pred = results.get_forecast(steps=152,exog=ex_test)\n",
    "pred.predicted_mean"
   ]
  },
  {
   "cell_type": "code",
   "execution_count": 68,
   "metadata": {
    "ExecuteTime": {
     "end_time": "2020-05-29T09:59:29.674794Z",
     "start_time": "2020-05-29T09:59:29.421456Z"
    },
    "colab": {
     "base_uri": "https://localhost:8080/",
     "height": 34
    },
    "colab_type": "code",
    "id": "6Y7Mfdm01J83",
    "outputId": "3d9a9aeb-d6f5-44c7-9426-479e70285354"
   },
   "outputs": [
    {
     "name": "stdout",
     "output_type": "stream",
     "text": [
      "58.69395033453192\n"
     ]
    }
   ],
   "source": [
    "rmse_SARIMAX_timevarying = sqrt(mean_squared_error(test.Customers ,pred.predicted_mean))\n",
    "print(rmse_SARIMAX_timevarying)"
   ]
  },
  {
   "cell_type": "code",
   "execution_count": 69,
   "metadata": {
    "ExecuteTime": {
     "end_time": "2020-05-29T09:59:29.863622Z",
     "start_time": "2020-05-29T09:59:29.682188Z"
    }
   },
   "outputs": [
    {
     "data": {
      "text/html": [
       "<div>\n",
       "<style scoped>\n",
       "    .dataframe tbody tr th:only-of-type {\n",
       "        vertical-align: middle;\n",
       "    }\n",
       "\n",
       "    .dataframe tbody tr th {\n",
       "        vertical-align: top;\n",
       "    }\n",
       "\n",
       "    .dataframe thead th {\n",
       "        text-align: right;\n",
       "    }\n",
       "</style>\n",
       "<table border=\"1\" class=\"dataframe\">\n",
       "  <thead>\n",
       "    <tr style=\"text-align: right;\">\n",
       "      <th></th>\n",
       "      <th>RMSE</th>\n",
       "    </tr>\n",
       "  </thead>\n",
       "  <tbody>\n",
       "    <tr>\n",
       "      <th>ARIMA(2,0,2)</th>\n",
       "      <td>236.992384</td>\n",
       "    </tr>\n",
       "    <tr>\n",
       "      <th>SARIMA(0,0,1)(2,0,2)7</th>\n",
       "      <td>149.296433</td>\n",
       "    </tr>\n",
       "    <tr>\n",
       "      <th>SARIMAX(1,0,2)(2,0,2)7</th>\n",
       "      <td>60.834931</td>\n",
       "    </tr>\n",
       "    <tr>\n",
       "      <th>SARIMAX_tvlm(1,0,2)(2,0,2)7</th>\n",
       "      <td>58.693950</td>\n",
       "    </tr>\n",
       "  </tbody>\n",
       "</table>\n",
       "</div>"
      ],
      "text/plain": [
       "                                   RMSE\n",
       "ARIMA(2,0,2)                 236.992384\n",
       "SARIMA(0,0,1)(2,0,2)7        149.296433\n",
       "SARIMAX(1,0,2)(2,0,2)7        60.834931\n",
       "SARIMAX_tvlm(1,0,2)(2,0,2)7   58.693950"
      ]
     },
     "execution_count": 69,
     "metadata": {},
     "output_type": "execute_result"
    }
   ],
   "source": [
    "temp_resultsDf = pd.DataFrame({'RMSE': [rmse_SARIMAX_timevarying]}\n",
    "                           ,index=['SARIMAX_tvlm(1,0,2)(2,0,2)7'])\n",
    "\n",
    "resultsDf = pd.concat([resultsDf, temp_resultsDf])\n",
    "resultsDf"
   ]
  },
  {
   "cell_type": "code",
   "execution_count": 70,
   "metadata": {
    "ExecuteTime": {
     "end_time": "2020-05-29T09:59:30.033935Z",
     "start_time": "2020-05-29T09:59:29.868339Z"
    },
    "colab": {},
    "colab_type": "code",
    "id": "UaymcMF-1J8-"
   },
   "outputs": [],
   "source": [
    "ex_1044=Store50_1044[['Open','Promotion','StateHoliday','SchoolHoliday']]"
   ]
  },
  {
   "cell_type": "code",
   "execution_count": 71,
   "metadata": {
    "ExecuteTime": {
     "end_time": "2020-05-29T09:59:30.202921Z",
     "start_time": "2020-05-29T09:59:30.034978Z"
    },
    "colab": {
     "base_uri": "https://localhost:8080/",
     "height": 204
    },
    "colab_type": "code",
    "id": "pvxf4Uj11J9D",
    "outputId": "d8ac11a7-f88d-4d94-c83c-68c706746bff"
   },
   "outputs": [
    {
     "data": {
      "text/html": [
       "<div>\n",
       "<style scoped>\n",
       "    .dataframe tbody tr th:only-of-type {\n",
       "        vertical-align: middle;\n",
       "    }\n",
       "\n",
       "    .dataframe tbody tr th {\n",
       "        vertical-align: top;\n",
       "    }\n",
       "\n",
       "    .dataframe thead th {\n",
       "        text-align: right;\n",
       "    }\n",
       "</style>\n",
       "<table border=\"1\" class=\"dataframe\">\n",
       "  <thead>\n",
       "    <tr style=\"text-align: right;\">\n",
       "      <th></th>\n",
       "      <th>Open</th>\n",
       "      <th>Promotion</th>\n",
       "      <th>StateHoliday</th>\n",
       "      <th>SchoolHoliday</th>\n",
       "    </tr>\n",
       "  </thead>\n",
       "  <tbody>\n",
       "    <tr>\n",
       "      <th>43275</th>\n",
       "      <td>0</td>\n",
       "      <td>0</td>\n",
       "      <td>1</td>\n",
       "      <td>1</td>\n",
       "    </tr>\n",
       "    <tr>\n",
       "      <th>43224</th>\n",
       "      <td>1</td>\n",
       "      <td>0</td>\n",
       "      <td>0</td>\n",
       "      <td>1</td>\n",
       "    </tr>\n",
       "    <tr>\n",
       "      <th>43173</th>\n",
       "      <td>1</td>\n",
       "      <td>0</td>\n",
       "      <td>0</td>\n",
       "      <td>1</td>\n",
       "    </tr>\n",
       "    <tr>\n",
       "      <th>43122</th>\n",
       "      <td>1</td>\n",
       "      <td>0</td>\n",
       "      <td>0</td>\n",
       "      <td>1</td>\n",
       "    </tr>\n",
       "    <tr>\n",
       "      <th>43071</th>\n",
       "      <td>1</td>\n",
       "      <td>0</td>\n",
       "      <td>0</td>\n",
       "      <td>0</td>\n",
       "    </tr>\n",
       "  </tbody>\n",
       "</table>\n",
       "</div>"
      ],
      "text/plain": [
       "       Open  Promotion StateHoliday  SchoolHoliday\n",
       "43275     0          0            1              1\n",
       "43224     1          0            0              1\n",
       "43173     1          0            0              1\n",
       "43122     1          0            0              1\n",
       "43071     1          0            0              0"
      ]
     },
     "execution_count": 71,
     "metadata": {},
     "output_type": "execute_result"
    }
   ],
   "source": [
    "## State variable has numeric character which has to be convered\n",
    "ex_1044[\"StateHoliday\"].loc[ex_1044[\"StateHoliday\"] == \"0\"] = 0\n",
    "ex_1044[\"StateHoliday\"].loc[ex_1044[\"StateHoliday\"] == \"a\"] = 1\n",
    "ex_1044[\"StateHoliday\"].loc[ex_1044[\"StateHoliday\"] == \"b\"] = 2\n",
    "ex_1044[\"StateHoliday\"].loc[ex_1044[\"StateHoliday\"] == \"c\"] = 3\n",
    "ex_1044.head()"
   ]
  },
  {
   "cell_type": "code",
   "execution_count": 72,
   "metadata": {
    "ExecuteTime": {
     "end_time": "2020-05-29T09:59:30.338187Z",
     "start_time": "2020-05-29T09:59:30.231619Z"
    }
   },
   "outputs": [
    {
     "name": "stdout",
     "output_type": "stream",
     "text": [
      "<class 'pandas.core.frame.DataFrame'>\n",
      "Int64Index: 882 entries, 43275 to 0\n",
      "Data columns (total 4 columns):\n",
      " #   Column         Non-Null Count  Dtype \n",
      "---  ------         --------------  ----- \n",
      " 0   Open           882 non-null    int64 \n",
      " 1   Promotion      882 non-null    int64 \n",
      " 2   StateHoliday   882 non-null    object\n",
      " 3   SchoolHoliday  882 non-null    int64 \n",
      "dtypes: int64(3), object(1)\n",
      "memory usage: 34.5+ KB\n"
     ]
    }
   ],
   "source": [
    "ex_1044.info()"
   ]
  },
  {
   "cell_type": "code",
   "execution_count": 73,
   "metadata": {
    "ExecuteTime": {
     "end_time": "2020-05-29T09:59:30.451740Z",
     "start_time": "2020-05-29T09:59:30.356285Z"
    }
   },
   "outputs": [
    {
     "name": "stdout",
     "output_type": "stream",
     "text": [
      "<class 'pandas.core.frame.DataFrame'>\n",
      "Int64Index: 882 entries, 43275 to 0\n",
      "Data columns (total 4 columns):\n",
      " #   Column         Non-Null Count  Dtype\n",
      "---  ------         --------------  -----\n",
      " 0   Open           882 non-null    int64\n",
      " 1   Promotion      882 non-null    int64\n",
      " 2   StateHoliday   882 non-null    int64\n",
      " 3   SchoolHoliday  882 non-null    int64\n",
      "dtypes: int64(4)\n",
      "memory usage: 34.5 KB\n"
     ]
    }
   ],
   "source": [
    "ex_1044['StateHoliday'] = ex_1044['StateHoliday'].astype('int64')\n",
    "ex_1044.info()"
   ]
  },
  {
   "cell_type": "code",
   "execution_count": 74,
   "metadata": {
    "ExecuteTime": {
     "end_time": "2020-05-29T09:59:49.383291Z",
     "start_time": "2020-05-29T09:59:30.456831Z"
    },
    "colab": {
     "base_uri": "https://localhost:8080/",
     "height": 170
    },
    "colab_type": "code",
    "id": "33BWkLlo1J9P",
    "outputId": "2da89653-9555-4e0f-9e00-ab303b32d24b"
   },
   "outputs": [
    {
     "name": "stdout",
     "output_type": "stream",
     "text": [
      "                                     SARIMAX Results                                     \n",
      "=========================================================================================\n",
      "Dep. Variable:                         Customers   No. Observations:                  882\n",
      "Model:             SARIMAX(1, 0, 2)x(2, 0, 2, 7)   Log Likelihood               -4712.499\n",
      "Date:                           Sat, 02 Apr 2022   AIC                           9448.997\n",
      "Time:                                   22:24:49   BIC                           9506.150\n",
      "Sample:                                        0   HQIC                          9470.872\n",
      "                                           - 882                                         \n",
      "Covariance Type:                             opg                                         \n",
      "=================================================================================\n",
      "                    coef    std err          z      P>|z|      [0.025      0.975]\n",
      "---------------------------------------------------------------------------------\n",
      "Open            532.4263     19.579     27.194      0.000     494.052     570.801\n",
      "Promotion        96.4041      5.890     16.366      0.000      84.859     107.949\n",
      "StateHoliday    -19.2929     12.110     -1.593      0.111     -43.027       4.441\n",
      "SchoolHoliday     9.6000      5.767      1.665      0.096      -1.702      20.902\n",
      "ar.L1             0.8162      0.046     17.838      0.000       0.726       0.906\n",
      "ma.L1            -0.7123      0.056    -12.792      0.000      -0.821      -0.603\n",
      "ma.L2             0.1281      0.028      4.530      0.000       0.073       0.184\n",
      "ar.S.L7           0.2396      0.088      2.709      0.007       0.066       0.413\n",
      "ar.S.L14          0.7438      0.088      8.475      0.000       0.572       0.916\n",
      "ma.S.L7          -0.2523      0.105     -2.405      0.016      -0.458      -0.047\n",
      "ma.S.L14         -0.5575      0.097     -5.743      0.000      -0.748      -0.367\n",
      "sigma2         3115.2157    104.258     29.880      0.000    2910.873    3319.558\n",
      "===================================================================================\n",
      "Ljung-Box (L1) (Q):                   0.04   Jarque-Bera (JB):               998.20\n",
      "Prob(Q):                              0.84   Prob(JB):                         0.00\n",
      "Heteroskedasticity (H):               1.90   Skew:                             0.94\n",
      "Prob(H) (two-sided):                  0.00   Kurtosis:                         7.92\n",
      "===================================================================================\n",
      "\n",
      "Warnings:\n",
      "[1] Covariance matrix calculated using the outer product of gradients (complex-step).\n"
     ]
    }
   ],
   "source": [
    "## To get the real forecast for 7 days, we will rerun the model on the complete dataset\n",
    "\n",
    "mod = sm.tsa.statespace.SARIMAX(Store50_1044['Customers'],exog=ex_1044,\n",
    "                                order=(1,0,2),\n",
    "                                seasonal_order=(2, 0, 2, 7),\n",
    "                                enforce_stationarity=False,\n",
    "                                enforce_invertibility=False)\n",
    "results = mod.fit()\n",
    "print(results.summary())"
   ]
  },
  {
   "cell_type": "markdown",
   "metadata": {
    "colab_type": "text",
    "id": "t29sYWF11J-W"
   },
   "source": [
    "\n"
   ]
  },
  {
   "cell_type": "markdown",
   "metadata": {
    "colab": {},
    "colab_type": "code",
    "id": "vhQmUQgg1J-Y"
   },
   "source": [
    "Role of Exogenous variables is not to reduce errors but to ensure to consider the additional variables in a practical way."
   ]
  },
  {
   "cell_type": "markdown",
   "metadata": {
    "colab": {},
    "colab_type": "code",
    "id": "iUpCUfdf1J-c"
   },
   "source": [
    "Now let's verify if the order as we got it using ACF and PACF gives you a better model in terms of performance.\n",
    "So we will build two models with order=(0,0,0),seasonal_order=(1, 1,1, 7) and order=(0,0,1),seasonal_order=(1, 1,1, 7) for both \n",
    "SARIMAX with and without exogeneous variables\n",
    "seasonality value for P and Q is assumed to be one because as per ACF and PACF plot seasonality was visible for every 7th period. \n",
    "In our SARIMAX loop in the earlier part of code we have assumed d to be 0. With this we will verify if first order differentiation makes a difference \n",
    "in terms of value of p and q both for the order and seasonal order."
   ]
  },
  {
   "cell_type": "code",
   "execution_count": 75,
   "metadata": {
    "ExecuteTime": {
     "end_time": "2020-05-29T09:59:51.237999Z",
     "start_time": "2020-05-29T09:59:49.385323Z"
    }
   },
   "outputs": [
    {
     "name": "stdout",
     "output_type": "stream",
     "text": [
      "                                 SARIMAX Results                                 \n",
      "=================================================================================\n",
      "Dep. Variable:                 Customers   No. Observations:                  730\n",
      "Model:             SARIMAX(1, 1, [1], 7)   Log Likelihood               -4447.653\n",
      "Date:                   Sat, 02 Apr 2022   AIC                           8901.305\n",
      "Time:                           22:24:50   BIC                           8915.022\n",
      "Sample:                                0   HQIC                          8906.602\n",
      "                                   - 730                                         \n",
      "Covariance Type:                     opg                                         \n",
      "==============================================================================\n",
      "                 coef    std err          z      P>|z|      [0.025      0.975]\n",
      "------------------------------------------------------------------------------\n",
      "ar.S.L7       -0.1793      0.034     -5.256      0.000      -0.246      -0.112\n",
      "ma.S.L7       -0.8971      0.019    -47.406      0.000      -0.934      -0.860\n",
      "sigma2      1.464e+04    344.168     42.533      0.000     1.4e+04    1.53e+04\n",
      "===================================================================================\n",
      "Ljung-Box (L1) (Q):                   1.39   Jarque-Bera (JB):              4296.24\n",
      "Prob(Q):                              0.24   Prob(JB):                         0.00\n",
      "Heteroskedasticity (H):               1.65   Skew:                            -2.40\n",
      "Prob(H) (two-sided):                  0.00   Kurtosis:                        14.01\n",
      "===================================================================================\n",
      "\n",
      "Warnings:\n",
      "[1] Covariance matrix calculated using the outer product of gradients (complex-step).\n"
     ]
    }
   ],
   "source": [
    "## SARIMA(0, 0, 0)(1,1,1, 7) \n",
    "mod = sm.tsa.statespace.SARIMAX(train['Customers'],\n",
    "                                order=(0,0,0),\n",
    "                                seasonal_order=(1, 1, 1, 7),\n",
    "                                enforce_stationarity=False,\n",
    "                                enforce_invertibility=False)\n",
    "results = mod.fit()\n",
    "print(results.summary())"
   ]
  },
  {
   "cell_type": "code",
   "execution_count": 76,
   "metadata": {
    "ExecuteTime": {
     "end_time": "2020-05-29T09:59:51.272630Z",
     "start_time": "2020-05-29T09:59:51.242649Z"
    }
   },
   "outputs": [
    {
     "data": {
      "text/plain": [
       "730    642.531307\n",
       "731    665.945208\n",
       "732    593.709434\n",
       "733      0.000000\n",
       "734    746.046269\n",
       "          ...    \n",
       "877    544.846190\n",
       "878    564.700437\n",
       "879    585.087803\n",
       "880      0.000000\n",
       "881    734.028732\n",
       "Name: predicted_mean, Length: 152, dtype: float64"
      ]
     },
     "execution_count": 76,
     "metadata": {},
     "output_type": "execute_result"
    }
   ],
   "source": [
    "test.Customers= test.Customers.astype(float)\n",
    "final_hat_avg =test.copy()\n",
    "pred = results.get_forecast(steps=152)\n",
    "pred.predicted_mean"
   ]
  },
  {
   "cell_type": "code",
   "execution_count": 77,
   "metadata": {
    "ExecuteTime": {
     "end_time": "2020-05-29T09:59:51.425953Z",
     "start_time": "2020-05-29T09:59:51.273627Z"
    }
   },
   "outputs": [
    {
     "name": "stdout",
     "output_type": "stream",
     "text": [
      "149.42542303818135\n"
     ]
    }
   ],
   "source": [
    "from math import sqrt\n",
    "from sklearn.metrics import mean_squared_error\n",
    "rms = sqrt(mean_squared_error(test.Customers ,pred.predicted_mean))\n",
    "print(rms)"
   ]
  },
  {
   "cell_type": "code",
   "execution_count": 78,
   "metadata": {
    "ExecuteTime": {
     "end_time": "2020-05-29T09:59:51.630367Z",
     "start_time": "2020-05-29T09:59:51.429951Z"
    }
   },
   "outputs": [
    {
     "data": {
      "text/html": [
       "<div>\n",
       "<style scoped>\n",
       "    .dataframe tbody tr th:only-of-type {\n",
       "        vertical-align: middle;\n",
       "    }\n",
       "\n",
       "    .dataframe tbody tr th {\n",
       "        vertical-align: top;\n",
       "    }\n",
       "\n",
       "    .dataframe thead th {\n",
       "        text-align: right;\n",
       "    }\n",
       "</style>\n",
       "<table border=\"1\" class=\"dataframe\">\n",
       "  <thead>\n",
       "    <tr style=\"text-align: right;\">\n",
       "      <th></th>\n",
       "      <th>RMSE</th>\n",
       "    </tr>\n",
       "  </thead>\n",
       "  <tbody>\n",
       "    <tr>\n",
       "      <th>ARIMA(2,0,2)</th>\n",
       "      <td>236.992384</td>\n",
       "    </tr>\n",
       "    <tr>\n",
       "      <th>SARIMA(0,0,1)(2,0,2)7</th>\n",
       "      <td>149.296433</td>\n",
       "    </tr>\n",
       "    <tr>\n",
       "      <th>SARIMAX(1,0,2)(2,0,2)7</th>\n",
       "      <td>60.834931</td>\n",
       "    </tr>\n",
       "    <tr>\n",
       "      <th>SARIMAX_tvlm(1,0,2)(2,0,2)7</th>\n",
       "      <td>58.693950</td>\n",
       "    </tr>\n",
       "    <tr>\n",
       "      <th>SARIMA(0,0,0)(1,1,1)7</th>\n",
       "      <td>149.425423</td>\n",
       "    </tr>\n",
       "  </tbody>\n",
       "</table>\n",
       "</div>"
      ],
      "text/plain": [
       "                                   RMSE\n",
       "ARIMA(2,0,2)                 236.992384\n",
       "SARIMA(0,0,1)(2,0,2)7        149.296433\n",
       "SARIMAX(1,0,2)(2,0,2)7        60.834931\n",
       "SARIMAX_tvlm(1,0,2)(2,0,2)7   58.693950\n",
       "SARIMA(0,0,0)(1,1,1)7        149.425423"
      ]
     },
     "execution_count": 78,
     "metadata": {},
     "output_type": "execute_result"
    }
   ],
   "source": [
    "temp_resultsDf = pd.DataFrame({'RMSE': [rms]}\n",
    "                           ,index=['SARIMA(0,0,0)(1,1,1)7'])\n",
    "\n",
    "resultsDf = pd.concat([resultsDf, temp_resultsDf])\n",
    "resultsDf"
   ]
  },
  {
   "cell_type": "code",
   "execution_count": 79,
   "metadata": {
    "ExecuteTime": {
     "end_time": "2020-05-29T09:59:53.777947Z",
     "start_time": "2020-05-29T09:59:51.633489Z"
    }
   },
   "outputs": [
    {
     "name": "stdout",
     "output_type": "stream",
     "text": [
      "                                     SARIMAX Results                                     \n",
      "=========================================================================================\n",
      "Dep. Variable:                         Customers   No. Observations:                  730\n",
      "Model:             SARIMAX(0, 0, 1)x(1, 1, 1, 7)   Log Likelihood               -4440.512\n",
      "Date:                           Sat, 02 Apr 2022   AIC                           8889.024\n",
      "Time:                                   22:24:51   BIC                           8907.308\n",
      "Sample:                                        0   HQIC                          8896.085\n",
      "                                           - 730                                         \n",
      "Covariance Type:                             opg                                         \n",
      "==============================================================================\n",
      "                 coef    std err          z      P>|z|      [0.025      0.975]\n",
      "------------------------------------------------------------------------------\n",
      "ma.L1          0.0574      0.023      2.504      0.012       0.012       0.102\n",
      "ar.S.L7       -0.1668      0.035     -4.796      0.000      -0.235      -0.099\n",
      "ma.S.L7       -0.9018      0.019    -48.285      0.000      -0.938      -0.865\n",
      "sigma2       1.46e+04    343.245     42.534      0.000    1.39e+04    1.53e+04\n",
      "===================================================================================\n",
      "Ljung-Box (L1) (Q):                   0.12   Jarque-Bera (JB):              4328.05\n",
      "Prob(Q):                              0.73   Prob(JB):                         0.00\n",
      "Heteroskedasticity (H):               1.60   Skew:                            -2.41\n",
      "Prob(H) (two-sided):                  0.00   Kurtosis:                        14.06\n",
      "===================================================================================\n",
      "\n",
      "Warnings:\n",
      "[1] Covariance matrix calculated using the outer product of gradients (complex-step).\n"
     ]
    }
   ],
   "source": [
    "## SARIMA(0, 0, 1)(1,1,1, 7) \n",
    "mod = sm.tsa.statespace.SARIMAX(train['Customers'],\n",
    "                                order=(0,0,1),\n",
    "                                seasonal_order=(1, 1, 1, 7),\n",
    "                                enforce_stationarity=False,\n",
    "                                enforce_invertibility=False)\n",
    "results = mod.fit()\n",
    "print(results.summary())"
   ]
  },
  {
   "cell_type": "code",
   "execution_count": 80,
   "metadata": {
    "ExecuteTime": {
     "end_time": "2020-05-29T09:59:53.813172Z",
     "start_time": "2020-05-29T09:59:53.782214Z"
    }
   },
   "outputs": [
    {
     "data": {
      "text/plain": [
       "730    6.272193e+02\n",
       "731    6.593675e+02\n",
       "732    5.909295e+02\n",
       "733   -1.002132e-06\n",
       "734    7.422851e+02\n",
       "           ...     \n",
       "877    5.438530e+02\n",
       "878    5.651201e+02\n",
       "879    5.832210e+02\n",
       "880   -8.588913e-07\n",
       "881    7.315241e+02\n",
       "Name: predicted_mean, Length: 152, dtype: float64"
      ]
     },
     "execution_count": 80,
     "metadata": {},
     "output_type": "execute_result"
    }
   ],
   "source": [
    "test.Customers= test.Customers.astype(float)\n",
    "final_hat_avg =test.copy()\n",
    "pred = results.get_forecast(steps=152)\n",
    "pred.predicted_mean"
   ]
  },
  {
   "cell_type": "code",
   "execution_count": 81,
   "metadata": {
    "ExecuteTime": {
     "end_time": "2020-05-29T09:59:53.899293Z",
     "start_time": "2020-05-29T09:59:53.817162Z"
    }
   },
   "outputs": [
    {
     "name": "stdout",
     "output_type": "stream",
     "text": [
      "148.93879112523678\n"
     ]
    }
   ],
   "source": [
    "rms = sqrt(mean_squared_error(test.Customers ,pred.predicted_mean))\n",
    "print(rms)"
   ]
  },
  {
   "cell_type": "code",
   "execution_count": 82,
   "metadata": {
    "ExecuteTime": {
     "end_time": "2020-05-29T09:59:54.016388Z",
     "start_time": "2020-05-29T09:59:53.903036Z"
    }
   },
   "outputs": [
    {
     "data": {
      "text/html": [
       "<div>\n",
       "<style scoped>\n",
       "    .dataframe tbody tr th:only-of-type {\n",
       "        vertical-align: middle;\n",
       "    }\n",
       "\n",
       "    .dataframe tbody tr th {\n",
       "        vertical-align: top;\n",
       "    }\n",
       "\n",
       "    .dataframe thead th {\n",
       "        text-align: right;\n",
       "    }\n",
       "</style>\n",
       "<table border=\"1\" class=\"dataframe\">\n",
       "  <thead>\n",
       "    <tr style=\"text-align: right;\">\n",
       "      <th></th>\n",
       "      <th>RMSE</th>\n",
       "    </tr>\n",
       "  </thead>\n",
       "  <tbody>\n",
       "    <tr>\n",
       "      <th>ARIMA(2,0,2)</th>\n",
       "      <td>236.992384</td>\n",
       "    </tr>\n",
       "    <tr>\n",
       "      <th>SARIMA(0,0,1)(2,0,2)7</th>\n",
       "      <td>149.296433</td>\n",
       "    </tr>\n",
       "    <tr>\n",
       "      <th>SARIMAX(1,0,2)(2,0,2)7</th>\n",
       "      <td>60.834931</td>\n",
       "    </tr>\n",
       "    <tr>\n",
       "      <th>SARIMAX_tvlm(1,0,2)(2,0,2)7</th>\n",
       "      <td>58.693950</td>\n",
       "    </tr>\n",
       "    <tr>\n",
       "      <th>SARIMA(0,0,0)(1,1,1)7</th>\n",
       "      <td>149.425423</td>\n",
       "    </tr>\n",
       "    <tr>\n",
       "      <th>SARIMA(0,0,1)(1,1,1)7</th>\n",
       "      <td>148.938791</td>\n",
       "    </tr>\n",
       "  </tbody>\n",
       "</table>\n",
       "</div>"
      ],
      "text/plain": [
       "                                   RMSE\n",
       "ARIMA(2,0,2)                 236.992384\n",
       "SARIMA(0,0,1)(2,0,2)7        149.296433\n",
       "SARIMAX(1,0,2)(2,0,2)7        60.834931\n",
       "SARIMAX_tvlm(1,0,2)(2,0,2)7   58.693950\n",
       "SARIMA(0,0,0)(1,1,1)7        149.425423\n",
       "SARIMA(0,0,1)(1,1,1)7        148.938791"
      ]
     },
     "execution_count": 82,
     "metadata": {},
     "output_type": "execute_result"
    }
   ],
   "source": [
    "temp_resultsDf = pd.DataFrame({'RMSE': [rms]}\n",
    "                           ,index=['SARIMA(0,0,1)(1,1,1)7'])\n",
    "\n",
    "resultsDf = pd.concat([resultsDf, temp_resultsDf])\n",
    "resultsDf"
   ]
  },
  {
   "cell_type": "code",
   "execution_count": 83,
   "metadata": {
    "ExecuteTime": {
     "end_time": "2020-05-29T10:00:01.226313Z",
     "start_time": "2020-05-29T09:59:54.021620Z"
    }
   },
   "outputs": [
    {
     "name": "stdout",
     "output_type": "stream",
     "text": [
      "                                 SARIMAX Results                                 \n",
      "=================================================================================\n",
      "Dep. Variable:                 Customers   No. Observations:                  730\n",
      "Model:             SARIMAX(1, 1, [1], 7)   Log Likelihood               -3947.705\n",
      "Date:                   Sat, 02 Apr 2022   AIC                           7909.410\n",
      "Time:                           22:24:54   BIC                           7941.416\n",
      "Sample:                                0   HQIC                          7921.770\n",
      "                                   - 730                                         \n",
      "Covariance Type:                     opg                                         \n",
      "=================================================================================\n",
      "                    coef    std err          z      P>|z|      [0.025      0.975]\n",
      "---------------------------------------------------------------------------------\n",
      "Open            511.1697     28.050     18.224      0.000     456.193     566.146\n",
      "Promotion        98.6198      5.171     19.073      0.000      88.486     108.754\n",
      "StateHoliday    -19.1547     16.894     -1.134      0.257     -52.266      13.956\n",
      "SchoolHoliday     5.2750      5.433      0.971      0.332      -5.374      15.924\n",
      "ar.S.L7          -0.1030      0.045     -2.285      0.022      -0.191      -0.015\n",
      "ma.S.L7          -0.8050      0.027    -29.469      0.000      -0.859      -0.751\n",
      "sigma2         3623.8617    115.889     31.270      0.000    3396.722    3851.001\n",
      "===================================================================================\n",
      "Ljung-Box (L1) (Q):                  35.69   Jarque-Bera (JB):              1962.75\n",
      "Prob(Q):                              0.00   Prob(JB):                         0.00\n",
      "Heteroskedasticity (H):               1.99   Skew:                             1.47\n",
      "Prob(H) (two-sided):                  0.00   Kurtosis:                        10.56\n",
      "===================================================================================\n",
      "\n",
      "Warnings:\n",
      "[1] Covariance matrix calculated using the outer product of gradients (complex-step).\n"
     ]
    }
   ],
   "source": [
    "## Exogeneous with order = (0,0,0) and seasonal order (1,1,1,7)\n",
    "mod = sm.tsa.statespace.SARIMAX(train['Customers'],exog=ex_train,\n",
    "                                order=(0,0,0),\n",
    "                                seasonal_order=(1, 1, 1, 7),\n",
    "                                enforce_stationarity=False,\n",
    "                                enforce_invertibility=False)\n",
    "results = mod.fit()\n",
    "print(results.summary())"
   ]
  },
  {
   "cell_type": "code",
   "execution_count": 84,
   "metadata": {
    "ExecuteTime": {
     "end_time": "2020-05-29T10:00:01.267461Z",
     "start_time": "2020-05-29T10:00:01.229604Z"
    }
   },
   "outputs": [
    {
     "data": {
      "text/plain": [
       "730     37.019691\n",
       "731    589.961973\n",
       "732    644.590073\n",
       "733      0.000000\n",
       "734    827.523031\n",
       "          ...    \n",
       "877    562.189508\n",
       "878    582.694475\n",
       "879    634.539173\n",
       "880      0.000000\n",
       "881    816.465076\n",
       "Name: predicted_mean, Length: 152, dtype: float64"
      ]
     },
     "execution_count": 84,
     "metadata": {},
     "output_type": "execute_result"
    }
   ],
   "source": [
    "pred = results.get_forecast(steps=152,exog=ex_test)\n",
    "pred.predicted_mean"
   ]
  },
  {
   "cell_type": "code",
   "execution_count": 85,
   "metadata": {
    "ExecuteTime": {
     "end_time": "2020-05-29T10:00:01.378658Z",
     "start_time": "2020-05-29T10:00:01.270712Z"
    }
   },
   "outputs": [
    {
     "name": "stdout",
     "output_type": "stream",
     "text": [
      "67.55672711830509\n"
     ]
    }
   ],
   "source": [
    "rms = sqrt(mean_squared_error(test.Customers ,pred.predicted_mean))\n",
    "print(rms)"
   ]
  },
  {
   "cell_type": "code",
   "execution_count": 86,
   "metadata": {
    "ExecuteTime": {
     "end_time": "2020-05-29T10:00:01.526405Z",
     "start_time": "2020-05-29T10:00:01.379695Z"
    }
   },
   "outputs": [
    {
     "data": {
      "text/html": [
       "<div>\n",
       "<style scoped>\n",
       "    .dataframe tbody tr th:only-of-type {\n",
       "        vertical-align: middle;\n",
       "    }\n",
       "\n",
       "    .dataframe tbody tr th {\n",
       "        vertical-align: top;\n",
       "    }\n",
       "\n",
       "    .dataframe thead th {\n",
       "        text-align: right;\n",
       "    }\n",
       "</style>\n",
       "<table border=\"1\" class=\"dataframe\">\n",
       "  <thead>\n",
       "    <tr style=\"text-align: right;\">\n",
       "      <th></th>\n",
       "      <th>RMSE</th>\n",
       "    </tr>\n",
       "  </thead>\n",
       "  <tbody>\n",
       "    <tr>\n",
       "      <th>ARIMA(2,0,2)</th>\n",
       "      <td>236.992384</td>\n",
       "    </tr>\n",
       "    <tr>\n",
       "      <th>SARIMA(0,0,1)(2,0,2)7</th>\n",
       "      <td>149.296433</td>\n",
       "    </tr>\n",
       "    <tr>\n",
       "      <th>SARIMAX(1,0,2)(2,0,2)7</th>\n",
       "      <td>60.834931</td>\n",
       "    </tr>\n",
       "    <tr>\n",
       "      <th>SARIMAX_tvlm(1,0,2)(2,0,2)7</th>\n",
       "      <td>58.693950</td>\n",
       "    </tr>\n",
       "    <tr>\n",
       "      <th>SARIMA(0,0,0)(1,1,1)7</th>\n",
       "      <td>149.425423</td>\n",
       "    </tr>\n",
       "    <tr>\n",
       "      <th>SARIMA(0,0,1)(1,1,1)7</th>\n",
       "      <td>148.938791</td>\n",
       "    </tr>\n",
       "    <tr>\n",
       "      <th>SARIMAX(0,0,0)(1,1,1)7</th>\n",
       "      <td>67.556727</td>\n",
       "    </tr>\n",
       "  </tbody>\n",
       "</table>\n",
       "</div>"
      ],
      "text/plain": [
       "                                   RMSE\n",
       "ARIMA(2,0,2)                 236.992384\n",
       "SARIMA(0,0,1)(2,0,2)7        149.296433\n",
       "SARIMAX(1,0,2)(2,0,2)7        60.834931\n",
       "SARIMAX_tvlm(1,0,2)(2,0,2)7   58.693950\n",
       "SARIMA(0,0,0)(1,1,1)7        149.425423\n",
       "SARIMA(0,0,1)(1,1,1)7        148.938791\n",
       "SARIMAX(0,0,0)(1,1,1)7        67.556727"
      ]
     },
     "execution_count": 86,
     "metadata": {},
     "output_type": "execute_result"
    }
   ],
   "source": [
    "temp_resultsDf = pd.DataFrame({'RMSE': [rms]}\n",
    "                           ,index=['SARIMAX(0,0,0)(1,1,1)7'])\n",
    "\n",
    "resultsDf = pd.concat([resultsDf, temp_resultsDf])\n",
    "resultsDf"
   ]
  },
  {
   "cell_type": "code",
   "execution_count": 87,
   "metadata": {
    "ExecuteTime": {
     "end_time": "2020-05-29T10:00:08.918379Z",
     "start_time": "2020-05-29T10:00:01.529460Z"
    }
   },
   "outputs": [
    {
     "name": "stdout",
     "output_type": "stream",
     "text": [
      "                                     SARIMAX Results                                     \n",
      "=========================================================================================\n",
      "Dep. Variable:                         Customers   No. Observations:                  730\n",
      "Model:             SARIMAX(0, 0, 1)x(1, 1, 1, 7)   Log Likelihood               -3923.871\n",
      "Date:                           Sat, 02 Apr 2022   AIC                           7863.743\n",
      "Time:                                   22:24:57   BIC                           7900.310\n",
      "Sample:                                        0   HQIC                          7877.865\n",
      "                                           - 730                                         \n",
      "Covariance Type:                             opg                                         \n",
      "=================================================================================\n",
      "                    coef    std err          z      P>|z|      [0.025      0.975]\n",
      "---------------------------------------------------------------------------------\n",
      "Open            547.5995     25.177     21.750      0.000     498.254     596.945\n",
      "Promotion        90.5543      5.930     15.270      0.000      78.932     102.177\n",
      "StateHoliday     -9.1764     14.184     -0.647      0.518     -36.977      18.624\n",
      "SchoolHoliday     5.2783      5.819      0.907      0.364      -6.127      16.684\n",
      "ma.L1             0.2020      0.021      9.789      0.000       0.162       0.242\n",
      "ar.S.L7          -0.1012      0.045     -2.245      0.025      -0.190      -0.013\n",
      "ma.S.L7          -0.8203      0.025    -32.287      0.000      -0.870      -0.770\n",
      "sigma2         3433.5320    109.129     31.463      0.000    3219.643    3647.421\n",
      "===================================================================================\n",
      "Ljung-Box (L1) (Q):                   0.34   Jarque-Bera (JB):              1687.49\n",
      "Prob(Q):                              0.56   Prob(JB):                         0.00\n",
      "Heteroskedasticity (H):               2.00   Skew:                             1.33\n",
      "Prob(H) (two-sided):                  0.00   Kurtosis:                        10.05\n",
      "===================================================================================\n",
      "\n",
      "Warnings:\n",
      "[1] Covariance matrix calculated using the outer product of gradients (complex-step).\n"
     ]
    }
   ],
   "source": [
    "## Exogeneous with order = (0,0,1) and seasonal order (1,1,1,7)\n",
    "mod = sm.tsa.statespace.SARIMAX(train['Customers'],exog=ex_train,\n",
    "                                order=(0,0,1),\n",
    "                                seasonal_order=(1, 1, 1, 7),\n",
    "                                enforce_stationarity=False,\n",
    "                                enforce_invertibility=False)\n",
    "results = mod.fit()\n",
    "print(results.summary())"
   ]
  },
  {
   "cell_type": "code",
   "execution_count": 88,
   "metadata": {
    "ExecuteTime": {
     "end_time": "2020-05-29T10:00:08.967368Z",
     "start_time": "2020-05-29T10:00:08.918379Z"
    }
   },
   "outputs": [
    {
     "data": {
      "text/plain": [
       "730   -6.598621e+00\n",
       "731    5.949538e+02\n",
       "732    6.419346e+02\n",
       "733    8.135661e-10\n",
       "734    8.187690e+02\n",
       "           ...     \n",
       "877    5.621274e+02\n",
       "878    5.878533e+02\n",
       "879    6.322897e+02\n",
       "880    7.387889e-10\n",
       "881    8.078643e+02\n",
       "Name: predicted_mean, Length: 152, dtype: float64"
      ]
     },
     "execution_count": 88,
     "metadata": {},
     "output_type": "execute_result"
    }
   ],
   "source": [
    "pred = results.get_forecast(steps=152,exog=ex_test)\n",
    "pred.predicted_mean"
   ]
  },
  {
   "cell_type": "code",
   "execution_count": 89,
   "metadata": {
    "ExecuteTime": {
     "end_time": "2020-05-29T10:00:09.051138Z",
     "start_time": "2020-05-29T10:00:08.968936Z"
    }
   },
   "outputs": [
    {
     "name": "stdout",
     "output_type": "stream",
     "text": [
      "64.78950284769954\n"
     ]
    }
   ],
   "source": [
    "rms = sqrt(mean_squared_error(test.Customers ,pred.predicted_mean))\n",
    "print(rms)"
   ]
  },
  {
   "cell_type": "code",
   "execution_count": 90,
   "metadata": {
    "ExecuteTime": {
     "end_time": "2020-05-29T10:00:09.158603Z",
     "start_time": "2020-05-29T10:00:09.051138Z"
    }
   },
   "outputs": [
    {
     "data": {
      "text/html": [
       "<div>\n",
       "<style scoped>\n",
       "    .dataframe tbody tr th:only-of-type {\n",
       "        vertical-align: middle;\n",
       "    }\n",
       "\n",
       "    .dataframe tbody tr th {\n",
       "        vertical-align: top;\n",
       "    }\n",
       "\n",
       "    .dataframe thead th {\n",
       "        text-align: right;\n",
       "    }\n",
       "</style>\n",
       "<table border=\"1\" class=\"dataframe\">\n",
       "  <thead>\n",
       "    <tr style=\"text-align: right;\">\n",
       "      <th></th>\n",
       "      <th>RMSE</th>\n",
       "    </tr>\n",
       "  </thead>\n",
       "  <tbody>\n",
       "    <tr>\n",
       "      <th>ARIMA(2,0,2)</th>\n",
       "      <td>236.992384</td>\n",
       "    </tr>\n",
       "    <tr>\n",
       "      <th>SARIMA(0,0,1)(2,0,2)7</th>\n",
       "      <td>149.296433</td>\n",
       "    </tr>\n",
       "    <tr>\n",
       "      <th>SARIMAX(1,0,2)(2,0,2)7</th>\n",
       "      <td>60.834931</td>\n",
       "    </tr>\n",
       "    <tr>\n",
       "      <th>SARIMAX_tvlm(1,0,2)(2,0,2)7</th>\n",
       "      <td>58.693950</td>\n",
       "    </tr>\n",
       "    <tr>\n",
       "      <th>SARIMA(0,0,0)(1,1,1)7</th>\n",
       "      <td>149.425423</td>\n",
       "    </tr>\n",
       "    <tr>\n",
       "      <th>SARIMA(0,0,1)(1,1,1)7</th>\n",
       "      <td>148.938791</td>\n",
       "    </tr>\n",
       "    <tr>\n",
       "      <th>SARIMAX(0,0,0)(1,1,1)7</th>\n",
       "      <td>67.556727</td>\n",
       "    </tr>\n",
       "    <tr>\n",
       "      <th>SARIMAX(0,0,1)(1,1,1)7</th>\n",
       "      <td>64.789503</td>\n",
       "    </tr>\n",
       "  </tbody>\n",
       "</table>\n",
       "</div>"
      ],
      "text/plain": [
       "                                   RMSE\n",
       "ARIMA(2,0,2)                 236.992384\n",
       "SARIMA(0,0,1)(2,0,2)7        149.296433\n",
       "SARIMAX(1,0,2)(2,0,2)7        60.834931\n",
       "SARIMAX_tvlm(1,0,2)(2,0,2)7   58.693950\n",
       "SARIMA(0,0,0)(1,1,1)7        149.425423\n",
       "SARIMA(0,0,1)(1,1,1)7        148.938791\n",
       "SARIMAX(0,0,0)(1,1,1)7        67.556727\n",
       "SARIMAX(0,0,1)(1,1,1)7        64.789503"
      ]
     },
     "execution_count": 90,
     "metadata": {},
     "output_type": "execute_result"
    }
   ],
   "source": [
    "temp_resultsDf = pd.DataFrame({'RMSE': [rms]}\n",
    "                           ,index=['SARIMAX(0,0,1)(1,1,1)7'])\n",
    "\n",
    "resultsDf = pd.concat([resultsDf, temp_resultsDf])\n",
    "resultsDf"
   ]
  },
  {
   "cell_type": "code",
   "execution_count": 91,
   "metadata": {
    "ExecuteTime": {
     "end_time": "2020-05-29T10:00:29.619974Z",
     "start_time": "2020-05-29T10:00:09.163715Z"
    }
   },
   "outputs": [
    {
     "name": "stdout",
     "output_type": "stream",
     "text": [
      "                                     SARIMAX Results                                     \n",
      "=========================================================================================\n",
      "Dep. Variable:                         Customers   No. Observations:                  730\n",
      "Model:             SARIMAX(0, 0, 1)x(1, 1, 1, 7)   Log Likelihood               -2323.243\n",
      "Date:                           Sat, 02 Apr 2022   AIC                           4662.486\n",
      "Time:                                   22:25:05   BIC                           4699.008\n",
      "Sample:                                        0   HQIC                          4676.594\n",
      "                                           - 730                                         \n",
      "Covariance Type:                             opg                                         \n",
      "=====================================================================================\n",
      "                        coef    std err          z      P>|z|      [0.025      0.975]\n",
      "-------------------------------------------------------------------------------------\n",
      "ma.L1                 1.2791   1.55e-19   8.27e+18      0.000       1.279       1.279\n",
      "ar.S.L7              -0.3120         -0        inf      0.000      -0.312      -0.312\n",
      "ma.S.L7              -0.5209   1.22e-19  -4.29e+18      0.000      -0.521      -0.521\n",
      "var.Open           3340.7838   5.42e-32   6.17e+34      0.000    3340.784    3340.784\n",
      "var.Promotion      2969.2579   7.45e-33   3.98e+35      0.000    2969.258    2969.258\n",
      "var.StateHoliday     12.7404   1.51e-30   8.43e+30      0.000      12.740      12.740\n",
      "var.SchoolHoliday  1159.8876   5.41e-32   2.14e+34      0.000    1159.888    1159.888\n",
      "sigma2             1.521e-12   1.89e-10      0.008      0.994   -3.69e-10    3.72e-10\n",
      "===================================================================================\n",
      "Ljung-Box (L1) (Q):                  25.93   Jarque-Bera (JB):             10823.00\n",
      "Prob(Q):                              0.00   Prob(JB):                         0.00\n",
      "Heteroskedasticity (H):               1.97   Skew:                            -2.08\n",
      "Prob(H) (two-sided):                  0.00   Kurtosis:                        21.67\n",
      "===================================================================================\n",
      "\n",
      "Warnings:\n",
      "[1] Covariance matrix calculated using the outer product of gradients (complex-step).\n",
      "[2] Covariance matrix is singular or near-singular, with condition number    inf. Standard errors may be unstable.\n"
     ]
    }
   ],
   "source": [
    "## Exogeneous with order = (0,0,1) and seasonal order (1,1,1,7) - TVLM\n",
    "mod = sm.tsa.statespace.SARIMAX(train['Customers'],exog=ex_train,time_varying_regression=True,mle_regression=False,\n",
    "                                order=(0,0,1),\n",
    "                                seasonal_order=(1, 1, 1, 7),\n",
    "                                enforce_stationarity=False,\n",
    "                                enforce_invertibility=False)\n",
    "results = mod.fit()\n",
    "print(results.summary())"
   ]
  },
  {
   "cell_type": "code",
   "execution_count": 92,
   "metadata": {
    "ExecuteTime": {
     "end_time": "2020-05-29T10:00:29.683549Z",
     "start_time": "2020-05-29T10:00:29.624091Z"
    }
   },
   "outputs": [
    {
     "data": {
      "text/plain": [
       "730    2.319177e+01\n",
       "731    5.056886e+02\n",
       "732    4.699946e+02\n",
       "733    2.653649e-13\n",
       "734    4.940940e+02\n",
       "           ...     \n",
       "877    4.609469e+02\n",
       "878    4.784658e+02\n",
       "879    4.699946e+02\n",
       "880    2.288402e-13\n",
       "881    4.668712e+02\n",
       "Name: predicted_mean, Length: 152, dtype: float64"
      ]
     },
     "execution_count": 92,
     "metadata": {},
     "output_type": "execute_result"
    }
   ],
   "source": [
    "pred = results.get_forecast(steps=152,exog=ex_test)\n",
    "pred.predicted_mean"
   ]
  },
  {
   "cell_type": "code",
   "execution_count": 93,
   "metadata": {
    "ExecuteTime": {
     "end_time": "2020-05-29T10:00:29.781840Z",
     "start_time": "2020-05-29T10:00:29.684547Z"
    }
   },
   "outputs": [
    {
     "name": "stdout",
     "output_type": "stream",
     "text": [
      "197.718681071534\n"
     ]
    }
   ],
   "source": [
    "rms = sqrt(mean_squared_error(test.Customers ,pred.predicted_mean))\n",
    "print(rms)"
   ]
  },
  {
   "cell_type": "code",
   "execution_count": 94,
   "metadata": {
    "ExecuteTime": {
     "end_time": "2020-05-29T10:00:29.980823Z",
     "start_time": "2020-05-29T10:00:29.782986Z"
    }
   },
   "outputs": [
    {
     "data": {
      "text/html": [
       "<div>\n",
       "<style scoped>\n",
       "    .dataframe tbody tr th:only-of-type {\n",
       "        vertical-align: middle;\n",
       "    }\n",
       "\n",
       "    .dataframe tbody tr th {\n",
       "        vertical-align: top;\n",
       "    }\n",
       "\n",
       "    .dataframe thead th {\n",
       "        text-align: right;\n",
       "    }\n",
       "</style>\n",
       "<table border=\"1\" class=\"dataframe\">\n",
       "  <thead>\n",
       "    <tr style=\"text-align: right;\">\n",
       "      <th></th>\n",
       "      <th>RMSE</th>\n",
       "    </tr>\n",
       "  </thead>\n",
       "  <tbody>\n",
       "    <tr>\n",
       "      <th>ARIMA(2,0,2)</th>\n",
       "      <td>236.992384</td>\n",
       "    </tr>\n",
       "    <tr>\n",
       "      <th>SARIMA(0,0,1)(2,0,2)7</th>\n",
       "      <td>149.296433</td>\n",
       "    </tr>\n",
       "    <tr>\n",
       "      <th>SARIMAX(1,0,2)(2,0,2)7</th>\n",
       "      <td>60.834931</td>\n",
       "    </tr>\n",
       "    <tr>\n",
       "      <th>SARIMAX_tvlm(1,0,2)(2,0,2)7</th>\n",
       "      <td>58.693950</td>\n",
       "    </tr>\n",
       "    <tr>\n",
       "      <th>SARIMA(0,0,0)(1,1,1)7</th>\n",
       "      <td>149.425423</td>\n",
       "    </tr>\n",
       "    <tr>\n",
       "      <th>SARIMA(0,0,1)(1,1,1)7</th>\n",
       "      <td>148.938791</td>\n",
       "    </tr>\n",
       "    <tr>\n",
       "      <th>SARIMAX(0,0,0)(1,1,1)7</th>\n",
       "      <td>67.556727</td>\n",
       "    </tr>\n",
       "    <tr>\n",
       "      <th>SARIMAX(0,0,1)(1,1,1)7</th>\n",
       "      <td>64.789503</td>\n",
       "    </tr>\n",
       "    <tr>\n",
       "      <th>SARIMAX_tvlm(0,0,1)(1,1,1)7</th>\n",
       "      <td>197.718681</td>\n",
       "    </tr>\n",
       "  </tbody>\n",
       "</table>\n",
       "</div>"
      ],
      "text/plain": [
       "                                   RMSE\n",
       "ARIMA(2,0,2)                 236.992384\n",
       "SARIMA(0,0,1)(2,0,2)7        149.296433\n",
       "SARIMAX(1,0,2)(2,0,2)7        60.834931\n",
       "SARIMAX_tvlm(1,0,2)(2,0,2)7   58.693950\n",
       "SARIMA(0,0,0)(1,1,1)7        149.425423\n",
       "SARIMA(0,0,1)(1,1,1)7        148.938791\n",
       "SARIMAX(0,0,0)(1,1,1)7        67.556727\n",
       "SARIMAX(0,0,1)(1,1,1)7        64.789503\n",
       "SARIMAX_tvlm(0,0,1)(1,1,1)7  197.718681"
      ]
     },
     "execution_count": 94,
     "metadata": {},
     "output_type": "execute_result"
    }
   ],
   "source": [
    "temp_resultsDf = pd.DataFrame({'RMSE': [rms]}\n",
    "                           ,index=['SARIMAX_tvlm(0,0,1)(1,1,1)7'])\n",
    "\n",
    "resultsDf = pd.concat([resultsDf, temp_resultsDf])\n",
    "resultsDf"
   ]
  },
  {
   "cell_type": "code",
   "execution_count": null,
   "metadata": {},
   "outputs": [],
   "source": [
    "# So we found SARIMAX_tvim to be best model from rmse value. \n"
   ]
  }
 ],
 "metadata": {
  "colab": {
   "name": "TimeSeries_Arimax_4.0.ipynb",
   "provenance": []
  },
  "kernelspec": {
   "display_name": "Python 3",
   "language": "python",
   "name": "python3"
  },
  "language_info": {
   "codemirror_mode": {
    "name": "ipython",
    "version": 3
   },
   "file_extension": ".py",
   "mimetype": "text/x-python",
   "name": "python",
   "nbconvert_exporter": "python",
   "pygments_lexer": "ipython3",
   "version": "3.8.8"
  },
  "toc": {
   "base_numbering": 1,
   "nav_menu": {},
   "number_sections": true,
   "sideBar": true,
   "skip_h1_title": false,
   "title_cell": "Table of Contents",
   "title_sidebar": "Contents",
   "toc_cell": false,
   "toc_position": {},
   "toc_section_display": true,
   "toc_window_display": false
  },
  "varInspector": {
   "cols": {
    "lenName": 16,
    "lenType": 16,
    "lenVar": 40
   },
   "kernels_config": {
    "python": {
     "delete_cmd_postfix": "",
     "delete_cmd_prefix": "del ",
     "library": "var_list.py",
     "varRefreshCmd": "print(var_dic_list())"
    },
    "r": {
     "delete_cmd_postfix": ") ",
     "delete_cmd_prefix": "rm(",
     "library": "var_list.r",
     "varRefreshCmd": "cat(var_dic_list()) "
    }
   },
   "types_to_exclude": [
    "module",
    "function",
    "builtin_function_or_method",
    "instance",
    "_Feature"
   ],
   "window_display": false
  }
 },
 "nbformat": 4,
 "nbformat_minor": 1
}
